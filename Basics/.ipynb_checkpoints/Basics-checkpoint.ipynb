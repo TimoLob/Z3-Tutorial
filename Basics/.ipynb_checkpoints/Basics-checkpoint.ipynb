{
 "cells": [
  {
   "cell_type": "code",
   "execution_count": 98,
   "id": "566fd7ff-6fdf-4b00-a3b8-80f9b92fe7c6",
   "metadata": {},
   "outputs": [],
   "source": [
    "from z3 import *\n",
    "set_option(html_mode=False)\n"
   ]
  },
  {
   "cell_type": "markdown",
   "id": "be868df0-0dae-4b73-9f7e-08611bd2fb0e",
   "metadata": {},
   "source": [
    "## Sorts\n",
    "\n",
    "Sorts are the datatypes that the SMT solver can work on."
   ]
  },
  {
   "cell_type": "code",
   "execution_count": 85,
   "id": "15afb1d1-9d3a-4357-8d95-01dd633a2219",
   "metadata": {},
   "outputs": [],
   "source": [
    "# Bool\n",
    "a = Bool('a')\n",
    "\n",
    "# Integers\n",
    "x = Int('x')\n",
    "y = Int('y')\n",
    "\n",
    "# Real numbers\n",
    "x = Real('x')\n",
    "y,z = Reals(\"y z\")\n",
    "\n",
    "# Bit-vector\n",
    "x = BitVec('x', 16)\n",
    "y = BitVec('x', 32)\n"
   ]
  },
  {
   "cell_type": "markdown",
   "id": "9d7c1834-d8b2-4be8-a12d-23ca15e8239e",
   "metadata": {},
   "source": [
    "### Preview: Composite Sorts\n",
    "- Arrays\n",
    "- Tuples\n",
    "- Records\n",
    "- Enumerations\n",
    "\n",
    "and User Defined Sorts."
   ]
  },
  {
   "cell_type": "markdown",
   "id": "f1387071-7fc4-4165-a53d-2a40fddfaacf",
   "metadata": {},
   "source": [
    "## Using the Z3-Solver\n",
    "\n",
    "### Example 1 : System of linear equations\n",
    "$$\n",
    "\\begin{align}\n",
    "3x + 2y -z &= 1 \\\\\n",
    "2x-2y+4z &= -2 \\\\\n",
    "-x +  \\frac{1}{2}y -z &=0\n",
    "\\end{align}\n",
    "$$"
   ]
  },
  {
   "cell_type": "code",
   "execution_count": 134,
   "id": "77ed5e40-ac40-4e55-8232-c86aed6a524e",
   "metadata": {},
   "outputs": [
    {
     "name": "stdout",
     "output_type": "stream",
     "text": [
      "x=1 y=-2 z=-2\n"
     ]
    }
   ],
   "source": [
    "x,y,z = Reals(\"x y z\")\n",
    "\n",
    "s = Solver()\n",
    "s.add(3*x + 2*y -z == 1)\n",
    "s.add(2*x - 2*y +4*z == -2)\n",
    "s.add(-1*x + 1.0/2.0 * y - z == 0)\n",
    "\n",
    "if s.check() == sat:\n",
    "    m = s.model()\n",
    "    x = m.evaluate(x)\n",
    "    y = m.evaluate(y)\n",
    "    z = m.evaluate(z)\n",
    "    print(f\"{x=} {y=} {z=}\")\n",
    "else:\n",
    "    print(s.check())"
   ]
  },
  {
   "cell_type": "markdown",
   "id": "4561666f-6cd3-45b0-8293-8b2170f1b583",
   "metadata": {},
   "source": [
    "$$\n",
    "\\begin{align}\n",
    "2x - 4y +z &= 3 \\\\\n",
    "8x-2y+4z &= 7 \\\\\n",
    "-4x +  y -2z &=14\n",
    "\\end{align}\n",
    "$$"
   ]
  },
  {
   "cell_type": "code",
   "execution_count": 135,
   "id": "74837562-e9ef-4099-9190-b69a0cf778ed",
   "metadata": {},
   "outputs": [
    {
     "name": "stdout",
     "output_type": "stream",
     "text": [
      "unsat\n"
     ]
    }
   ],
   "source": [
    "x,y,z = Reals(\"x y z\")\n",
    "\n",
    "s = Solver()\n",
    "s.add(2*x - 4*y + z == 3)\n",
    "s.add(8*x -2*y +4*z == 7)\n",
    "s.add(-4*x + y -2*z == 14)\n",
    "\n",
    "if s.check() == sat:\n",
    "    m = s.model()\n",
    "    print(m)\n",
    "else:\n",
    "    print(s.check())"
   ]
  },
  {
   "cell_type": "markdown",
   "id": "056e70db-3cf2-4fa1-aee8-5d2e0620f55d",
   "metadata": {},
   "source": [
    "## Simplifying formulas\n",
    "\n",
    "Find all parameters to control how formulas are simplified with `help_simplify()`."
   ]
  },
  {
   "cell_type": "markdown",
   "id": "bb5472ad-cee9-480d-a912-d86be0e2f5c6",
   "metadata": {},
   "source": [
    "$$\n",
    "\\begin{align}\n",
    "x * 3 * x * x *x * 6 \\\\\n",
    "x = y+2 \\\\\n",
    "(x+y)^2 \\\\\n",
    "(x+y)(x-y)+2 = -x^2\n",
    "\\end{align}\n",
    "$$"
   ]
  },
  {
   "cell_type": "code",
   "execution_count": 99,
   "id": "865b8006-37af-4a32-8227-b747ac931f24",
   "metadata": {},
   "outputs": [
    {
     "name": "stdout",
     "output_type": "stream",
     "text": [
      "18*x**4\n",
      "x + -1*y == 2\n",
      "x**2 + 2*x*y + y**2\n",
      "2*x**2 + -1*y**2 == -2\n"
     ]
    }
   ],
   "source": [
    "x,y,z = Reals(\"x y z\")\n",
    "\n",
    "print(simplify(x*3*x*x*x*6, mul_to_power=True))\n",
    "print (simplify(x == y + 2, arith_lhs=True)) \n",
    "print(simplify((x + y)**2, som=True, mul_to_power=True))\n",
    "print(simplify((x + y)*(x-y)+2 == -x**2, som=True, mul_to_power=True, arith_lhs=True))\n"
   ]
  },
  {
   "cell_type": "code",
   "execution_count": 75,
   "id": "2834cafd-7c1b-4bfc-88e8-4a91a0068f49",
   "metadata": {},
   "outputs": [
    {
     "name": "stdout",
     "output_type": "stream",
     "text": [
      "Not(Or(A, B) == And(Not(A), Not(B)))\n"
     ]
    }
   ],
   "source": [
    "A, B = Bools(\"A B\")\n",
    "\n",
    "print(simplify(Not(Or(A,B)) == And(Not(A),Not(B))))"
   ]
  },
  {
   "cell_type": "code",
   "execution_count": 81,
   "id": "2e67c5ef-5769-452e-93c1-20eed1afa59b",
   "metadata": {},
   "outputs": [
    {
     "name": "stdout",
     "output_type": "stream",
     "text": [
      "[y = 20000000000000001, x = -9999979999999999999999]\n"
     ]
    }
   ],
   "source": []
  },
  {
   "cell_type": "markdown",
   "id": "ed3bde37-740d-4337-9bac-57799a397c8e",
   "metadata": {},
   "source": [
    "## Proofs\n",
    "it is enought to find one concrete assignment of variables to say that a statement is **satisfiable**.\n",
    "\n",
    "A formula is **valid** if it always evaluates to true for **any assignment of variables.**\n",
    "\n",
    "The Z3 proof function receives a formula as input. It then creates a solver and attempts to solve the **negation** of the input formula. If the exhaustive search finds no valid assignment, then the formula is proven.\n",
    "\n",
    "### Prove \n",
    "De Morgan's laws\n",
    "$$\\neg (A \\vee B) \\equiv (\\neg A) \\wedge (\\neg B) \\quad \\text{and} \\quad \\neg (A \\wedge B) \\equiv (\\neg A) \\vee (\\neg B)$$\n"
   ]
  },
  {
   "cell_type": "code",
   "execution_count": 18,
   "id": "f65bcf51-617e-4568-8161-ada00a878dde",
   "metadata": {},
   "outputs": [
    {
     "name": "stdout",
     "output_type": "stream",
     "text": [
      "proved\n",
      "proved\n"
     ]
    }
   ],
   "source": [
    "# Define variables\n",
    "A, B = Bools(\"A B\")\n",
    "\n",
    "de_morgan1 = Not(Or(A,B)) == And(Not(A),Not(B))\n",
    "\n",
    "de_morgan2 = Not(And(A,B)) == Or(Not(A),Not(B))\n",
    "\n",
    "\n",
    "prove(de_morgan1)\n",
    "prove(de_morgan2)"
   ]
  },
  {
   "cell_type": "markdown",
   "id": "9b889739-0b22-42fd-8ef0-dfed05acc2a5",
   "metadata": {},
   "source": [
    "## References\n",
    "[Programming Guide - Microsoft](https://z3prover.github.io/papers/programmingz3.html)\n",
    "\n",
    "[Python Tutorial - Microsoft](https://microsoft.github.io/z3guide/programming/Z3%20Python%20-%20Readonly/Introduction)\n",
    "\n",
    "[Z3 - Github](https://github.com/Z3Prover/z3)"
   ]
  },
  {
   "cell_type": "code",
   "execution_count": null,
   "id": "691d27c2-3aeb-4f6e-a4c2-265b7f27bb26",
   "metadata": {},
   "outputs": [],
   "source": []
  }
 ],
 "metadata": {
  "kernelspec": {
   "display_name": "Python 3 (ipykernel)",
   "language": "python",
   "name": "python3"
  },
  "language_info": {
   "codemirror_mode": {
    "name": "ipython",
    "version": 3
   },
   "file_extension": ".py",
   "mimetype": "text/x-python",
   "name": "python",
   "nbconvert_exporter": "python",
   "pygments_lexer": "ipython3",
   "version": "3.12.4"
  }
 },
 "nbformat": 4,
 "nbformat_minor": 5
}
