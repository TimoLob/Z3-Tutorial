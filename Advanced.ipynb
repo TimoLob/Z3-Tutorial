{
 "cells": [
  {
   "cell_type": "code",
   "execution_count": 1,
   "id": "de9c5f0a-216b-4f4c-b3f6-02ca18589689",
   "metadata": {},
   "outputs": [],
   "source": [
    "from z3 import *\n",
    "set_option(html_mode=False)"
   ]
  },
  {
   "cell_type": "markdown",
   "id": "91fd2e40-e6c2-4d77-978c-431a0e4fe7cd",
   "metadata": {},
   "source": [
    "## Simplifying formulas\n",
    "\n",
    "Find all parameters to control how formulas are simplified with `help_simplify()`.\n",
    "$$\n",
    "\\begin{align}\n",
    "x * 3 * x * x *x * 8 = 384\\\\\n",
    "x = y+2 \\\\\n",
    "(x+y)^2 \\\\\n",
    "(x+y)(x-y)+2 = -x^2\n",
    "\\end{align}\n",
    "$$"
   ]
  },
  {
   "cell_type": "code",
   "execution_count": 15,
   "id": "05e6192b-463c-49fb-81ae-f99a12c041d1",
   "metadata": {},
   "outputs": [
    {
     "name": "stdout",
     "output_type": "stream",
     "text": [
      "x**4 == 16\n",
      "x + -1*y == 2\n",
      "x**2 + 2*x*y + y**2\n",
      "2*x**2 + -1*y**2 == -2\n"
     ]
    }
   ],
   "source": [
    "x,y,z = Reals(\"x y z\")\n",
    "\n",
    "print(simplify(x*3*x*x*x*8==384, mul_to_power=True))\n",
    "print(simplify(x == y + 2, arith_lhs=True)) \n",
    "print(simplify((x + y)**2, som=True, mul_to_power=True))\n",
    "print(simplify((x + y)*(x-y)+2 == -x**2, som=True, mul_to_power=True, arith_lhs=True))\n"
   ]
  },
  {
   "cell_type": "code",
   "execution_count": 16,
   "id": "d1ac8b6d-0cfa-4995-ae3f-23746a065af4",
   "metadata": {},
   "outputs": [
    {
     "name": "stdout",
     "output_type": "stream",
     "text": [
      "And(A, B)\n",
      "False\n"
     ]
    }
   ],
   "source": [
    "A, B = Bools(\"A B\")\n",
    "print (simplify(And(A, B, True)))\n",
    "\n",
    "print (simplify(And(A, False)))\n"
   ]
  },
  {
   "cell_type": "markdown",
   "id": "789d60e1-73e5-460f-ac4d-6d3f9babde38",
   "metadata": {},
   "source": [
    "## Internal Representation\n",
    "Expressions, sorts and declaration are internally abstract syntax trees.\n",
    "Every expression has a sort.\n",
    "\n",
    "Even though I called `Int(\"x\")` a variable, it is internally a constant of type `IntSort`, represented as a function with $0$ arguments."
   ]
  },
  {
   "cell_type": "code",
   "execution_count": 2,
   "id": "6558b205-6e9f-4c56-83f6-e6d8c9049ac7",
   "metadata": {},
   "outputs": [
    {
     "name": "stdout",
     "output_type": "stream",
     "text": [
      "x.sort(): Int\n",
      "(x + 1).sort(): Int\n",
      "(x + 1.5).sort(): Real\n",
      "(x > y).sort(): Bool\n"
     ]
    }
   ],
   "source": [
    "# The .sort() method retrieves the sort of an expression\n",
    "x, y = Ints('x y')\n",
    "\n",
    "print(\"x.sort():\",x.sort())\n",
    "print(\"(x + 1).sort():\",(x+1).sort())\n",
    "print(\"(x + 1.5).sort():\",(x+1.5).sort())\n",
    "print(\"(x > y).sort():\",(x>y).sort())"
   ]
  },
  {
   "cell_type": "markdown",
   "id": "c366dfd8-277e-4ad2-86f2-2e84180b4973",
   "metadata": {},
   "source": [
    "### Symbolic-expression\n",
    "[Wikipedia](https://en.wikipedia.org/wiki/S-expression)  \n",
    "2 * (3+4)  \n",
    "(* 2 (+ 3 4)) (prefix notation)  \n",
    "S-expression as graph:\n",
    "<div>\n",
    "<img src=\"https://upload.wikimedia.org/wikipedia/commons/thumb/6/6c/Corrected_S-expression_tree_2.svg/1024px-Corrected_S-expression_tree_2.svg.png\" width=\"300\"/>\n",
    "</div>"
   ]
  },
  {
   "cell_type": "code",
   "execution_count": 4,
   "id": "d91fd0e4-8fcb-4314-be1f-ec80b33409f2",
   "metadata": {},
   "outputs": [
    {
     "name": "stdout",
     "output_type": "stream",
     "text": [
      "(x+y) == (x+y)?\n",
      "(+ x y) == (+ x y)\n",
      "True\n",
      "x + y == y + x\n",
      "\n",
      "(x+y) == (y+x)?\n",
      "(+ x y) (+ y x)\n",
      "False\n"
     ]
    }
   ],
   "source": [
    "# The method eq(n1,n2) returns True if n1 and n2 are structurally the same AST\n",
    "x, y = Ints('x y')\n",
    "print(\"(x+y) == (x+y)?\")\n",
    "print((x+y).sexpr(),\"==\",(x+y).sexpr())\n",
    "print(eq(x + y, x + y))\n",
    "\n",
    "print()\n",
    "print(\"(x+y) == (y+x)?\")\n",
    "print((x+y).sexpr(),(y+x).sexpr())\n",
    "print(eq(x + y, y + x))"
   ]
  },
  {
   "cell_type": "code",
   "execution_count": 25,
   "id": "48b50d31-35c8-4ced-bd5d-07eb80eb83fb",
   "metadata": {},
   "outputs": [
    {
     "name": "stdout",
     "output_type": "stream",
     "text": [
      "89782791\n",
      "89782791\n",
      "3776101329\n"
     ]
    }
   ],
   "source": [
    "# If eq(n1,n2) returns True, then their hash values are the same\n",
    "print((x + y).hash())\n",
    "print((x + y).hash())\n",
    "print((y + x).hash())"
   ]
  },
  {
   "cell_type": "markdown",
   "id": "17d5f373-bfba-40ec-b79d-0f5babf52aa5",
   "metadata": {},
   "source": [
    "## Arrays\n",
    "Z3 provides a basic array type that maps from an index to a value.\n",
    "`Select(a,i)` returns the value stored at position `i` of the array `a`.\n",
    "`Store(a,i,v)` returns a new array. A copy of `a`, but with the value `v` at position `i`.\n",
    "\n",
    "In python, `Select(a,i)` can be shortened to `a[i]`."
   ]
  },
  {
   "cell_type": "code",
   "execution_count": 5,
   "id": "f7447d95-0a50-4518-8988-3527d5d06540",
   "metadata": {},
   "outputs": [
    {
     "name": "stdout",
     "output_type": "stream",
     "text": [
      "A[x]\n",
      "A[x]\n",
      "Store(A, x, 10)\n",
      "\n",
      "Store(A, 2, x + 1)[2]\n",
      "1 + x\n"
     ]
    }
   ],
   "source": [
    "# A is an array mapping from integer to integer\n",
    "A = Array(\"A\", IntSort(), IntSort())\n",
    "x = Int('x')\n",
    "\n",
    "print (A[x])\n",
    "print (Select(A, x))\n",
    "print (Store(A, x, 10))\n",
    "\n",
    "print()\n",
    "print (Select(Store(A, 2, x+1), 2))\n",
    "print (simplify(Select(Store(A, 2, x+1), 2)))"
   ]
  },
  {
   "cell_type": "markdown",
   "id": "1ee47e4a-74f5-4768-b7c3-3a8933a3faad",
   "metadata": {},
   "source": [
    "Arrays in Z3 are generally used to model unbounded or very large arrays.  \n",
    "It is usually much more efficient to create different variables using list comprehension for smaller arrays."
   ]
  },
  {
   "cell_type": "markdown",
   "id": "3b7c9bb7-a1fa-437e-95d7-4f70f9c22f41",
   "metadata": {},
   "source": [
    "### Constant Arrays\n",
    "`K(s,v)` costructs an array that maps all value of type `s` into an expression `v`."
   ]
  },
  {
   "cell_type": "code",
   "execution_count": 8,
   "id": "be84f7f3-e914-4196-989d-78ccc2b9df13",
   "metadata": {},
   "outputs": [
    {
     "name": "stdout",
     "output_type": "stream",
     "text": [
      "Store(K(Int, 0), 1000000000000, 1)\n",
      "[x = 1000000000000]\n"
     ]
    }
   ],
   "source": [
    "AllZeroes = K(IntSort(),0)\n",
    "OneHot = Store(AllZeroes,1_000_000,1)\n",
    "print(OneHot)\n",
    "x = Int(\"x\")\n",
    "s = Solver()\n",
    "s.add(OneHot[x] == 1)\n",
    "\n",
    "if s.check():\n",
    "    print(s.model())"
   ]
  },
  {
   "cell_type": "markdown",
   "id": "9f0e3d06-272a-42eb-b908-d9264ca74a6c",
   "metadata": {},
   "source": [
    "## Advanced Datatypes\n"
   ]
  },
  {
   "cell_type": "markdown",
   "id": "9a29299d-55e7-49a3-9d6e-bae4b63dbf39",
   "metadata": {},
   "source": [
    "### List\n"
   ]
  },
  {
   "cell_type": "code",
   "execution_count": 10,
   "id": "f95de691-4ef9-4dbf-bab8-be378289baf4",
   "metadata": {},
   "outputs": [
    {
     "name": "stdout",
     "output_type": "stream",
     "text": [
      "cons(10, nil)\n",
      "cons(cons(10, nil), cons(cons(10, nil), nil))\n",
      "cons(1/3, nil)\n",
      "List_of_Int\n"
     ]
    }
   ],
   "source": [
    "def DeclareList(sort):\n",
    "    List = Datatype('List_of_%s' % sort.name())\n",
    "    List.declare('cons', ('head', sort), ('tail', List))\n",
    "    List.declare('nil')\n",
    "    return List.create()\n",
    "\n",
    "IntList     = DeclareList(IntSort())\n",
    "RealList    = DeclareList(RealSort())\n",
    "IntListList = DeclareList(IntList)\n",
    "\n",
    "l1 = IntList.cons(10, IntList.nil)\n",
    "print (l1)\n",
    "print (IntListList.cons(l1, IntListList.cons(l1, IntListList.nil)))\n",
    "print (RealList.cons(\"1/3\", RealList.nil))\n",
    "\n",
    "print (l1.sort())"
   ]
  },
  {
   "cell_type": "markdown",
   "id": "b29e24f5-8a41-427b-9b0b-6b4f03346e7f",
   "metadata": {},
   "source": [
    "### Enum\n",
    "`EnumSort(name, [values])` creates new enumeration datatype with the given name. Each instance can have one of the values in `values`.\n",
    "It returns the datatype and constants for each value."
   ]
  },
  {
   "cell_type": "code",
   "execution_count": 12,
   "id": "1069c1ae-6b97-4a96-b186-ffcab15d1fc2",
   "metadata": {},
   "outputs": [],
   "source": [
    "Color, (red, green, blue) = EnumSort('Color', ('red', 'green', 'blue'))"
   ]
  },
  {
   "cell_type": "code",
   "execution_count": 13,
   "id": "2353c706-87e6-43c6-8b92-58eb35e69dd7",
   "metadata": {},
   "outputs": [
    {
     "name": "stdout",
     "output_type": "stream",
     "text": [
      "green == blue\n",
      "False\n",
      "[c = red]\n"
     ]
    }
   ],
   "source": [
    "print (green == blue)\n",
    "print (simplify(green == blue))\n",
    "\n",
    "c = Const('c', Color)\n",
    "solve(c != green, c != blue)"
   ]
  },
  {
   "cell_type": "code",
   "execution_count": null,
   "id": "9b7a401f-2aed-49de-9741-0b97008c5ed8",
   "metadata": {},
   "outputs": [],
   "source": []
  }
 ],
 "metadata": {
  "kernelspec": {
   "display_name": "Python 3 (ipykernel)",
   "language": "python",
   "name": "python3"
  },
  "language_info": {
   "codemirror_mode": {
    "name": "ipython",
    "version": 3
   },
   "file_extension": ".py",
   "mimetype": "text/x-python",
   "name": "python",
   "nbconvert_exporter": "python",
   "pygments_lexer": "ipython3",
   "version": "3.12.4"
  }
 },
 "nbformat": 4,
 "nbformat_minor": 5
}
