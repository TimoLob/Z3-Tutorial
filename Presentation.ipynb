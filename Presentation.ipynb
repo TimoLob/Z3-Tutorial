{
 "cells": [
  {
   "cell_type": "code",
   "execution_count": null,
   "id": "966e10c8-d368-4040-94a4-ebd6cb3753dc",
   "metadata": {},
   "outputs": [],
   "source": [
    "from z3 import *"
   ]
  },
  {
   "cell_type": "markdown",
   "id": "683021a4-8bd1-488b-92af-febfee850626",
   "metadata": {},
   "source": [
    "## Factory Production - Z3 Optimizer\n",
    "\n",
    "You have a limited amount of labor hours, machine time and raw material.\n",
    "Maximize the profit given the following constraints.\n",
    "\n",
    "You have 500 labor hours, 800 machine hours and 600 units of material.\n",
    "\n",
    "|Name|ProductID|Profit|Labor Hours|Machine Time|Raw Materials|\n",
    "|---|---|---|---|---|---|\n",
    "|Phone Case|A|10|3|3|4|\n",
    "|Phone Charger|B|30|5|3|2|\n",
    "|Smarphone|C|50|4|5|6|\n"
   ]
  },
  {
   "cell_type": "markdown",
   "id": "5e990521-dac9-4a5a-a2c9-c179b86da341",
   "metadata": {},
   "source": [
    "This can be expressed as a **linear programming** problem.  \n",
    "\n",
    "$$\n",
    "\\begin{align}\n",
    "\\max f(x) = 10 * A + 30 * B + 50 * C \\\\\n",
    "\\text{with contraints}\\\\\n",
    "3*A + 5*B+ 4*C <= 500 \\\\\n",
    "3*A + 3*B + 5*C <= 800 \\\\\n",
    "4*A + 2*B + 6*C <= 600 \\\\\n",
    "A>=0 \\\\\n",
    "B>=0 \\\\\n",
    "C>=0\n",
    "\\end{align}\n",
    "$$"
   ]
  },
  {
   "cell_type": "code",
   "execution_count": null,
   "id": "01bda2bf-8330-4221-8a15-5001e402a098",
   "metadata": {},
   "outputs": [],
   "source": [
    "optimizer = Optimize() # Create a Z3 optimize environment\n",
    "\n",
    "# Define Variables\n",
    "phone_cases = Int('A') # Number of phone cases produced\n",
    "phone_charger = Int('B') # Phone chargers\n",
    "smartphones = Int('C') # Smartphones\n",
    "\n",
    "# Labor hours\n",
    "optimizer.add(3*phone_cases + 5*phone_charger+ 4*smartphones <= 500)\n",
    "\n",
    "# Machine time\n",
    "optimizer.add(3*phone_cases + 3*phone_charger + 5*smartphones <= 800)\n",
    "\n",
    "# Raw materials\n",
    "optimizer.add(4*phone_cases + 2*phone_charger + 6*smartphones <= 600)\n",
    "\n",
    "# Non-negative restrictions\n",
    "optimizer.add([phone_cases>=0, phone_charger>=0, smartphones>=0])\n",
    "\n",
    "\n",
    "# Define the objective function\n",
    "profit = 10 * phone_cases + 30 * phone_charger + 50 * smartphones\n",
    "\n",
    "# Maximize the objective function\n",
    "optimizer.maximize(profit)\n",
    "\n",
    "# Check if the problem can be solved\n",
    "if optimizer.check() == sat:\n",
    "    model = optimizer.model()\n",
    "    print(\"Optimal production plan:\")\n",
    "    print(f\"Produce {model.evaluate(phone_cases)} cases.\")\n",
    "    print(f\"Produce {model.evaluate(phone_charger)} chargers.\")\n",
    "    print(f\"Produce {model.evaluate(smartphones)} smartphones.\")\n",
    "    print(f\"Maximum Profit: ${model.evaluate(profit)}\")\n",
    "else:\n",
    "    print(\"No feasible production plan found.\")\n"
   ]
  },
  {
   "cell_type": "markdown",
   "id": "73a80956-5ecb-4e60-9013-5ab6e89acbfd",
   "metadata": {},
   "source": [
    "After showing this new plan to the sales team, they add a new constraint. If we produce more than 50 Smartphones, then we should produce at least enough phone cases for 30% of those."
   ]
  },
  {
   "cell_type": "code",
   "execution_count": null,
   "id": "04ee175b-e8b6-4bee-8b46-1c223648b34d",
   "metadata": {},
   "outputs": [],
   "source": [
    "optimizer.push()\n",
    "optimizer.add(If(smartphones > 50, phone_cases >= smartphones * 0.3, True))\n",
    "\n",
    "# Check if the problem can be solved\n",
    "if optimizer.check() == sat:\n",
    "    model = optimizer.model()\n",
    "    print(\"Optimal production plan:\")\n",
    "    print(f\"Produce {model.evaluate(phone_cases)} cases.\")\n",
    "    print(f\"Produce {model.evaluate(phone_charger)} chargers.\")\n",
    "    print(f\"Produce {model.evaluate(smartphones)} smartphones.\")\n",
    "    print(f\"Maximum Profit: ${model.evaluate(profit)}\")\n",
    "else:\n",
    "    print(\"No feasible production plan found.\")\n",
    "optimizer.pop()\n"
   ]
  },
  {
   "cell_type": "markdown",
   "id": "d93d2177-f49b-4d5a-af3b-f11921179062",
   "metadata": {},
   "source": [
    "## Dependency Chaos - Z3 Solver\n",
    "\n",
    "As part of the production line, you need to manage different parts and chips that are used in different devices.\n",
    "![title](Images/deps.png)"
   ]
  },
  {
   "cell_type": "code",
   "execution_count": null,
   "id": "133ab4ae-c753-49f2-ab5b-4d48e8e39e46",
   "metadata": {},
   "outputs": [],
   "source": [
    "## Generate Constraint for Package dependency\n",
    "def DependsOn(package, deps):\n",
    "    return And( [ Implies(package, dep) for dep in deps ] )\n",
    "\n",
    "# Generate constraint for conflicting packages\n",
    "def Conflict(p1, p2):\n",
    "    return Or(Not(p1), Not(p2))"
   ]
  },
  {
   "cell_type": "code",
   "execution_count": null,
   "id": "65684161-7f8a-43b5-bee5-aee699c37872",
   "metadata": {},
   "outputs": [],
   "source": [
    "b, c, d, e, f, g = Bools('b c d e f g')\n",
    "smartphone = BoolVal(True)\n",
    "charger = BoolVal(True)\n",
    "s = Solver()\n",
    "\n",
    "constraints = [\n",
    "    DependsOn(smartphone, [b, c]),\n",
    "    DependsOn(charger, [b,f]),\n",
    "    DependsOn(b, [d]),\n",
    "    DependsOn(c, [Or(d, e), Or(f, g)]),\n",
    "    Conflict(d, e),\n",
    "    Conflict(f, g)\n",
    "    ]\n",
    "\n",
    "s.add(constraints)\n",
    "\n",
    "if s.check() == sat:\n",
    "    print(s.model())"
   ]
  },
  {
   "cell_type": "markdown",
   "id": "2c6b8aec-a1e0-4ece-b466-8d766c732204",
   "metadata": {},
   "source": [
    "## Code Verification - Z3 proof\n",
    "The OS for the OnePluZ3 is written in C. While doing a code review of a coworkers code, you notice a strange C function.\n",
    "```c\n",
    "// Magic function\n",
    "uint32_t f(int32_t v) {    \n",
    "    int32_t const mask = v >> 31;\n",
    "    uint32_t r = (v + mask) ^ mask;\n",
    "    return r;\n",
    "}\n",
    "```\n",
    "Unfortunately, your coworker left for their holiday and is unable to explain what this function is supposed to do.  \n",
    "You try to figure out what it does by modeling it in python:"
   ]
  },
  {
   "cell_type": "markdown",
   "id": "4ec18218-5ac7-44fe-8999-820b3e3c7eb0",
   "metadata": {},
   "source": [
    "```\n",
    "Speaker notes:\n",
    "Notice how you can use the function normally in python, but you can also give a Z3 expression as parameter. This is the power of operator overloading.\n",
    "```"
   ]
  },
  {
   "cell_type": "code",
   "execution_count": null,
   "id": "7aaa6fa2-23f6-4c87-b1b1-e6779b0af9b1",
   "metadata": {},
   "outputs": [],
   "source": [
    "def f(v):\n",
    "    mask = v >> 31;\n",
    "    r = (v + mask) ^ mask\n",
    "    return r"
   ]
  },
  {
   "cell_type": "code",
   "execution_count": null,
   "id": "4f7b2955-77ee-4ccc-8bfe-fbb1394d14e2",
   "metadata": {},
   "outputs": [],
   "source": [
    "print(f(0)) # => 0\n",
    "print(f(1)) # => 1\n",
    "print(f(5)) # => 5\n",
    "print(f(100)) # => 100\n",
    "print(f(1000)) # => 1000"
   ]
  },
  {
   "cell_type": "markdown",
   "id": "aaaa34af-badf-456c-829b-08d60b1fea63",
   "metadata": {},
   "source": [
    "The function returns its input value? Something seems fishy, let's use Z3 to proof our theory."
   ]
  },
  {
   "cell_type": "code",
   "execution_count": null,
   "id": "f46cd187-77cc-431d-b059-ccde69332a62",
   "metadata": {},
   "outputs": [],
   "source": [
    "x = BitVec(\"x\",32)\n",
    "y = f(x)\n",
    "prove(x == y)"
   ]
  },
  {
   "cell_type": "markdown",
   "id": "3dcfba2e-c8d4-488d-a181-bd53f187d161",
   "metadata": {},
   "source": [
    "Z3 interprets bitvectors as unsigned integers by default.\n",
    "The counterexample is outside of the range of unsigned integers (max 2147483647)."
   ]
  },
  {
   "cell_type": "code",
   "execution_count": null,
   "id": "e90b9b75-a4cc-4f22-9d61-638446b95fec",
   "metadata": {},
   "outputs": [],
   "source": [
    "import numpy as np\n",
    "# Interpret as 32 bit unsigned, then reinterpret those bits as signed.\n",
    "print(np.int32(np.uint32(2717999451)))"
   ]
  },
  {
   "cell_type": "code",
   "execution_count": null,
   "id": "5898234d-981f-45c5-ae32-40557dc9fd49",
   "metadata": {},
   "outputs": [],
   "source": [
    "print(f(-1576967845)) # => 1576967845\n",
    "print(f(-5)) # => 5\n",
    "print(f(-100)) # => 100"
   ]
  },
  {
   "cell_type": "markdown",
   "id": "c65be7e3-8a7a-4b1d-97ff-caa5c7f53a7e",
   "metadata": {},
   "source": [
    "This function appears to return the absolute value of an integer. But you are still sceptical. How can you be sure that this is what this function does? And maybe even more importantly, that it won't break for a very specific input value?\n",
    "\n",
    "Let's try to prove our new theory."
   ]
  },
  {
   "cell_type": "code",
   "execution_count": null,
   "id": "a690874a-482b-42b7-9da9-b6eefdb470eb",
   "metadata": {},
   "outputs": [],
   "source": [
    "x = BitVec(\"x\",32)\n",
    "y = f(x)\n",
    "#prove(If(x >= 0,y == x, y == -x))\n",
    "prove(If(x >= 0,y == x, y == -x), show=True)"
   ]
  },
  {
   "cell_type": "markdown",
   "id": "fe1912ac-6c36-4bd1-ae4e-9c5b813833d9",
   "metadata": {},
   "source": [
    "```\n",
    "Speaker notes:\n",
    "In Z3 a proof is an exhaustive search without finding a counter example.\n",
    "Switch commented lines just above. Show how the proof works.\n",
    "```"
   ]
  },
  {
   "cell_type": "markdown",
   "id": "b46eabbf-dfbd-403a-8cb8-b86e16ad9f34",
   "metadata": {},
   "source": [
    "## Optimizing dinner with Z3\n",
    "To reward you for your great work, management decides to treat your team to a nice dinner. However, you have a very strict budget allocated for every minute detail of your meal. They even gave you an upper limit for much you can spend on appetizers!  \n",
    "In an attempt to get every single cent from management, the following scene unfolds:\n",
    "![title](https://imgs.xkcd.com/comics/np_complete.png)\n",
    "\n",
    "[Source - xkcd 287](https://www.explainxkcd.com/wiki/index.php/287:_NP-Complete)\n",
    "\n",
    "This problem is a variation of the knapsack problem and NP-complete.\n",
    "You decide to help the waiter out and pull out your laptop:"
   ]
  },
  {
   "cell_type": "code",
   "execution_count": null,
   "id": "943d38aa-62b8-46ab-8395-73fbde70ec85",
   "metadata": {},
   "outputs": [],
   "source": [
    "appetizers = [\"Mixed Fruit\", \"French Fries\", \"Side Salad\", \"Hot Wings\", \"Mozzarella Sticks\", \"Sampler Plate\"]\n",
    "prices = [2.15, 2.75, 3.35, 3.55, 4.20, 5.80]\n",
    "\n",
    "a = IntVector('a', 6) # Int vector with 6 variables\n",
    "s = Solver()\n",
    "\n",
    "price_products = [price * var for price,var in zip(prices,a)]\n",
    "total = sum(price_products)\n",
    "\n",
    "#print(total)\n",
    "\n",
    "s.add(total == 15.05)\n",
    "\n",
    "for i in range(6):\n",
    "    s.add(a[i] >= 0)\n",
    "\n",
    "s.add(a[0] != 7)\n",
    "if s.check() == sat:\n",
    "    m = s.model()\n",
    "    for i in range(6):\n",
    "        print(m.evaluate(a[i]),appetizers[i])\n",
    "    print()\n"
   ]
  },
  {
   "cell_type": "markdown",
   "id": "2c23ebdf-99d4-4279-b73f-e62339663d5d",
   "metadata": {},
   "source": [
    "```\n",
    "Speaker Notes:\n",
    "a coworker pipes up, they don't want Mixed Fruit, add another restriction\n",
    "\n",
    "Show total as Z3 interprets it\n",
    "```"
   ]
  },
  {
   "cell_type": "markdown",
   "id": "9af54cdf-16d0-493e-bd3f-26678dd1933c",
   "metadata": {},
   "source": [
    "## Sudoku\n",
    "\n",
    "During the dinner, the conversation shifts from work to leisure and someone mentions a challenging Sudoku puzzle they've been struggling with. You decide to demonstrate how versatile Z3 can be. It can even be used to solve logic puzzles.\n",
    "```\n",
    "Speaker Notes: Switch to sudoku solver notebook\n",
    "```"
   ]
  },
  {
   "cell_type": "markdown",
   "id": "13b433c7-faca-48d0-818f-d7e1ce602052",
   "metadata": {},
   "source": [
    "## Z3 and Philosophy"
   ]
  },
  {
   "cell_type": "markdown",
   "id": "23f82245-10da-4a03-a1e6-48422d5038ee",
   "metadata": {},
   "source": [
    "You somehow land in a philosophical mood. #todo Come up with a better story."
   ]
  },
  {
   "cell_type": "markdown",
   "id": "e58281fc-fd0d-4e4c-9ed3-e3ed7d7abdc6",
   "metadata": {},
   "source": [
    "Axioms:\n",
    "1. All humans are mortal.\n",
    "2. Socrates is a man.  \n",
    "\n",
    "Conclusion :\n",
    "- Socrates is mortal\n",
    "\n"
   ]
  },
  {
   "cell_type": "code",
   "execution_count": null,
   "id": "7c5b2016-4274-4a33-bc87-7c1080644559",
   "metadata": {},
   "outputs": [],
   "source": [
    "Object = DeclareSort('Object') # uninterpreted sort\n",
    "\n",
    "Human = Function('Human', Object, BoolSort())\n",
    "Mortal = Function('Mortal', Object, BoolSort())\n",
    "\n",
    "socrates = Const('socrates', Object)\n",
    "\n",
    "x = Const('x', Object)\n",
    "\n",
    "axioms = [\n",
    "    ForAll([x], Implies(Human(x), Mortal(x))),\n",
    "    Human(socrates)\n",
    "]\n",
    "\n",
    "\n",
    "s = Solver()\n",
    "s.add(axioms)\n",
    "\n",
    "print(s.check()) # sat => axioms are coherent"
   ]
  },
  {
   "cell_type": "code",
   "execution_count": null,
   "id": "4d303a09-8fc6-4be1-87c0-a67ce29420a6",
   "metadata": {},
   "outputs": [],
   "source": [
    "# classical refutation\n",
    "s.add(Not(Mortal(socrates))) # Socrates is not mortal\n",
    "\n",
    "print(s.check()) # prints unsat so socrates is Mortal\n"
   ]
  },
  {
   "cell_type": "markdown",
   "id": "2db48046-1b15-4a0b-9c07-dec2b1d9129f",
   "metadata": {},
   "source": [
    "Speaker Notes:  \n",
    "Covers:\n",
    "- Uninterpreted/free Sorts : Sorts with no a-priori interpretation\n",
    "- uninterpreted/free functions\n",
    "- Quantifiers\n",
    "  \n",
    "[Link](https://microsoft.github.io/z3guide/programming/Z3%20Python%20-%20Readonly/advanced#uninterpreted-sorts)"
   ]
  },
  {
   "cell_type": "markdown",
   "id": "779f2e0c-cf72-4168-95e7-9f3fe41e9153",
   "metadata": {},
   "source": [
    "## Simpsons\n",
    "\n"
   ]
  },
  {
   "cell_type": "markdown",
   "id": "505840d9-ba5b-45e6-b8e4-f092f7def62e",
   "metadata": {},
   "source": [
    "### Entailment\n",
    "\n",
    "Facts:\n",
    "- Marge is parent of Lisa. : `ParentOf(Marge,Lisa)`\n",
    "- Homer is parent of Lisa. : `ParentOf(Homer,Lisa)`\n",
    "- Homer is the father of Bart. : `hasFather(Bart) = Homer`\n",
    "\n",
    "Rules:\n",
    "\n",
    "![img](Images/father_parent.png)\n",
    "\n",
    "\n",
    "\n",
    "![img](Images/parent_sibling.png)\n",
    "\n",
    "Prove that Lisa and Bart are siblings.\n"
   ]
  },
  {
   "cell_type": "code",
   "execution_count": null,
   "id": "c34c63d8-5672-4606-95a5-0f833fc86e47",
   "metadata": {},
   "outputs": [],
   "source": [
    "Person = DeclareSort('Person') # uninterpreted sort\n",
    "\n",
    "homer, marge, bart, lisa = Consts(\"homer marge bart lisa\", Person)\n",
    "hasFather = Function(\"hasFather\", Person, Person)\n",
    "parentOf = Function(\"parentOf\", Person, Person, BoolSort())\n",
    "siblings = Function(\"siblings\", Person, Person, BoolSort())\n",
    "\n",
    "x = Const('x', Person)\n",
    "y = Const('y', Person)\n",
    "z = Const('z', Person)\n",
    "\n",
    "axioms = [\n",
    "    parentOf(marge,lisa),\n",
    "    parentOf(homer,lisa),\n",
    "    hasFather(bart) == homer,\n",
    "]\n",
    "rules = [\n",
    "    ForAll([x,y], Implies(hasFather(x) == y, parentOf(y,x))),\n",
    "    ForAll([x,y,z], \n",
    "        Implies(\n",
    "            And(parentOf(x,y), parentOf(x,z)),\n",
    "            siblings(y,z)\n",
    "    )),\n",
    "]\n",
    "\n",
    "\n",
    "s = Solver()\n",
    "s.add(axioms)\n",
    "s.add(rules)\n",
    "\n",
    "#s.add(Not(siblings(bart,lisa)))\n",
    "\n",
    "print(s.check())"
   ]
  },
  {
   "cell_type": "code",
   "execution_count": null,
   "id": "9f746973-7ade-42ec-ba8b-66ae3f03e9f7",
   "metadata": {},
   "outputs": [],
   "source": []
  }
 ],
 "metadata": {
  "kernelspec": {
   "display_name": "Python 3 (ipykernel)",
   "language": "python",
   "name": "python3"
  },
  "language_info": {
   "codemirror_mode": {
    "name": "ipython",
    "version": 3
   },
   "file_extension": ".py",
   "mimetype": "text/x-python",
   "name": "python",
   "nbconvert_exporter": "python",
   "pygments_lexer": "ipython3",
   "version": "3.12.4"
  }
 },
 "nbformat": 4,
 "nbformat_minor": 5
}
