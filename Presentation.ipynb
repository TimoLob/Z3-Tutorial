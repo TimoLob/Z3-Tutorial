{
 "cells": [
  {
   "cell_type": "markdown",
   "id": "645d1054-b91b-4bfe-aab4-864b4843268b",
   "metadata": {},
   "source": [
    "# Introduction"
   ]
  },
  {
   "cell_type": "markdown",
   "id": "3485a876-e4bf-43b9-bc4c-92d07d41ed63",
   "metadata": {},
   "source": [
    "![Logo](Images/z3logo.png)"
   ]
  },
  {
   "cell_type": "markdown",
   "id": "dca347bd-3ed8-4e12-8336-56d62c6823c7",
   "metadata": {},
   "source": [
    "Z3 is an efficient Satisfiability Modulo Theories (SMT) solver from Microsoft Research.\n",
    "\n",
    "- Open Source\n",
    "- Written in C/C++\n",
    "- Default input format SMTLIB2\n",
    "- Function interfaces for:\n",
    "    - C/C++\n",
    "    - .NET\n",
    "    - Java\n",
    "    - **Python**\n",
    "    - Rust\n",
    "    - OCAml\n",
    "    - Julia\n",
    "    - Smalltalk"
   ]
  },
  {
   "cell_type": "markdown",
   "id": "7f850bdd-30a4-4487-908a-7da61f98e344",
   "metadata": {},
   "source": [
    "## Installation"
   ]
  },
  {
   "cell_type": "markdown",
   "id": "7c7277e4-0793-448a-a397-ef6215422aaa",
   "metadata": {},
   "source": [
    "The python bindings can be installed via pip."
   ]
  },
  {
   "cell_type": "code",
   "execution_count": 1,
   "id": "5c6abea4-bac6-4df0-8cbd-172e9edf1b04",
   "metadata": {},
   "outputs": [
    {
     "name": "stdout",
     "output_type": "stream",
     "text": [
      "Requirement already satisfied: z3-solver in ./.env/lib/python3.12/site-packages (4.13.0.0)\n",
      "\n",
      "\u001b[1m[\u001b[0m\u001b[34;49mnotice\u001b[0m\u001b[1;39;49m]\u001b[0m\u001b[39;49m A new release of pip is available: \u001b[0m\u001b[31;49m24.0\u001b[0m\u001b[39;49m -> \u001b[0m\u001b[32;49m24.1.1\u001b[0m\n",
      "\u001b[1m[\u001b[0m\u001b[34;49mnotice\u001b[0m\u001b[1;39;49m]\u001b[0m\u001b[39;49m To update, run: \u001b[0m\u001b[32;49mpip install --upgrade pip\u001b[0m\n"
     ]
    }
   ],
   "source": [
    "!pip install z3-solver"
   ]
  },
  {
   "cell_type": "markdown",
   "id": "2421b52a-d5a3-4e45-a533-dfdd6b6b4052",
   "metadata": {},
   "source": [
    "## OnePluZ3"
   ]
  },
  {
   "cell_type": "code",
   "execution_count": 2,
   "id": "966e10c8-d368-4040-94a4-ebd6cb3753dc",
   "metadata": {},
   "outputs": [],
   "source": [
    "from z3 import *"
   ]
  },
  {
   "cell_type": "markdown",
   "id": "683021a4-8bd1-488b-92af-febfee850626",
   "metadata": {},
   "source": [
    "## Linear Programming - Factory Production\n",
    "\n",
    "The new OnePluZ3 smartphone it about to go into production.  \n",
    "Your location can produce the smartphone and some accessories. You are tasked with finding the optimal amount of each product to produce in order to maximize profit.\n",
    "\n",
    "You have a limited amount of labor hours, machine time and raw material.\n",
    "Maximize the profit given the following constraints.\n",
    "\n",
    "You have 500 labor hours, 800 machine hours and 600 units of material.\n",
    "\n",
    "|Name|ProductID|Profit|Labor Hours|Machine Time|Raw Materials|\n",
    "|---|---|---|---|---|---|\n",
    "|Phone Case|A|10|3|3|4|\n",
    "|Phone Charger|B|30|5|3|2|\n",
    "|Smarphone|C|50|4|5|6|\n"
   ]
  },
  {
   "cell_type": "code",
   "execution_count": 78,
   "id": "01bda2bf-8330-4221-8a15-5001e402a098",
   "metadata": {},
   "outputs": [
    {
     "name": "stdout",
     "output_type": "stream",
     "text": [
      "Optimal production plan:\n",
      "Produce 0 cases.\n",
      "Produce 27 chargers.\n",
      "Produce 91 smartphones.\n",
      "Maximum Profit: $5360\n"
     ]
    }
   ],
   "source": [
    "# Define Variables\n",
    "A = Int('A') # Number of phone cases produced\n",
    "B = Int('B') # Phone chargers\n",
    "C = Int('C') # Smartphones\n",
    "\n",
    "optimizer = Optimize() # Create a Z3 optimize environment\n",
    "\n",
    "# Labor hours\n",
    "optimizer.add(3*A + 5*B+ 4*C <= 500)\n",
    "\n",
    "# Machine time\n",
    "optimizer.add(3*A + 3*B + 5*C <= 800)\n",
    "\n",
    "# Raw materials\n",
    "optimizer.add(4*A + 2*B + 6*C <= 600)\n",
    "\n",
    "# Non-negative restrictions\n",
    "optimizer.add([A>=0, B>=0, C>=0])\n",
    "\n",
    "\n",
    "# Define the objective function\n",
    "profit = 10 * A + 30 * B + 50 * C\n",
    "\n",
    "# Maximize the objective function\n",
    "optimizer.maximize(profit)\n",
    "\n",
    "# Check if the problem can be solved\n",
    "if optimizer.check() == sat:\n",
    "    model = optimizer.model()\n",
    "    print(\"Optimal production plan:\")\n",
    "    print(f\"Produce {model.evaluate(A)} cases.\")\n",
    "    print(f\"Produce {model.evaluate(B)} chargers.\")\n",
    "    print(f\"Produce {model.evaluate(C)} smartphones.\")\n",
    "    print(f\"Maximum Profit: ${model.evaluate(profit)}\")\n",
    "else:\n",
    "    print(\"No feasible production plan found.\")\n"
   ]
  },
  {
   "cell_type": "markdown",
   "id": "73a80956-5ecb-4e60-9013-5ab6e89acbfd",
   "metadata": {},
   "source": [
    "After showing this new plan to the sales team, they add a new constraint. If we produce more than 50 Smartphones, then we should produce at least enough phone cases for 30% of those. This is supposed to increase the number of sales."
   ]
  },
  {
   "cell_type": "code",
   "execution_count": 79,
   "id": "04ee175b-e8b6-4bee-8b46-1c223648b34d",
   "metadata": {},
   "outputs": [
    {
     "name": "stdout",
     "output_type": "stream",
     "text": [
      "Optimal production plan:\n",
      "Produce 23 cases.\n",
      "Produce 25 chargers.\n",
      "Produce 76 smartphones.\n",
      "Maximum Profit: $4780\n"
     ]
    }
   ],
   "source": [
    "optimizer.push()\n",
    "optimizer.add(If(C > 50, A >= C * 0.3, True))\n",
    "\n",
    "# Check if the problem can be solved\n",
    "if optimizer.check() == sat:\n",
    "    model = optimizer.model()\n",
    "    print(\"Optimal production plan:\")\n",
    "    print(f\"Produce {model.evaluate(A)} cases.\")\n",
    "    print(f\"Produce {model.evaluate(B)} chargers.\")\n",
    "    print(f\"Produce {model.evaluate(C)} smartphones.\")\n",
    "    print(f\"Maximum Profit: ${model.evaluate(profit)}\")\n",
    "else:\n",
    "    print(\"No feasible production plan found.\")\n",
    "optimizer.pop()\n"
   ]
  },
  {
   "cell_type": "markdown",
   "id": "2c6b8aec-a1e0-4ece-b466-8d766c732204",
   "metadata": {},
   "source": [
    "## Code Verification\n",
    "The OS for the OnePluZ3 is written in C. While doing a code review of a coworkers code, you notice a strange C function.\n",
    "```c\n",
    "// Magic function\n",
    "uint32_t f(int32_t v) {    \n",
    "     \n",
    "    int32_t const mask = v >> 31;\n",
    "    uint32_t r = (v + mask) ^ mask;\n",
    "    return r;\n",
    "}\n",
    "```\n",
    "Unfortunately, your coworker left for their holiday and is unable to explain what this function is supposed to do.  \n",
    "You try to figure out what it does by modeling it in python:"
   ]
  },
  {
   "cell_type": "markdown",
   "id": "4ec18218-5ac7-44fe-8999-820b3e3c7eb0",
   "metadata": {},
   "source": [
    "```\n",
    "Speaker notes:\n",
    "Notice how you can use the function normally in python, but you can also give a Z3 expression as parameter. This is the power of operator overloading.\n",
    "```"
   ]
  },
  {
   "cell_type": "code",
   "execution_count": 80,
   "id": "7aaa6fa2-23f6-4c87-b1b1-e6779b0af9b1",
   "metadata": {},
   "outputs": [],
   "source": [
    "def f(v):\n",
    "    mask = v >> 31;\n",
    "    r = (v + mask) ^ mask\n",
    "    return r"
   ]
  },
  {
   "cell_type": "code",
   "execution_count": 81,
   "id": "4f7b2955-77ee-4ccc-8bfe-fbb1394d14e2",
   "metadata": {},
   "outputs": [
    {
     "name": "stdout",
     "output_type": "stream",
     "text": [
      "0\n",
      "1\n",
      "5\n",
      "100\n",
      "1000\n"
     ]
    }
   ],
   "source": [
    "print(f(0)) # => 0\n",
    "print(f(1)) # => 1\n",
    "print(f(5)) # => 5\n",
    "print(f(100)) # => 100\n",
    "print(f(1000)) # => 1000"
   ]
  },
  {
   "cell_type": "markdown",
   "id": "aaaa34af-badf-456c-829b-08d60b1fea63",
   "metadata": {},
   "source": [
    "The function returns its input value? Something seems fishy, let's use Z3 to proof our theory."
   ]
  },
  {
   "cell_type": "code",
   "execution_count": 82,
   "id": "f46cd187-77cc-431d-b059-ccde69332a62",
   "metadata": {},
   "outputs": [
    {
     "name": "stdout",
     "output_type": "stream",
     "text": [
      "counterexample\n",
      "[x = 4294967295]\n"
     ]
    }
   ],
   "source": [
    "x = BitVec(\"x\",32)\n",
    "y = f(x)\n",
    "prove(x == y)"
   ]
  },
  {
   "cell_type": "markdown",
   "id": "3dcfba2e-c8d4-488d-a181-bd53f187d161",
   "metadata": {},
   "source": [
    "Z3 interprets bitvectors as unsigned integers by default.\n",
    "The counterexample is outside of the range of unsigned integers (max 2147483647)."
   ]
  },
  {
   "cell_type": "code",
   "execution_count": 85,
   "id": "e90b9b75-a4cc-4f22-9d61-638446b95fec",
   "metadata": {},
   "outputs": [
    {
     "name": "stdout",
     "output_type": "stream",
     "text": [
      "-1576967845\n"
     ]
    }
   ],
   "source": [
    "import numpy as np\n",
    "# Interpret as 32 bit unsigned, then reinterpret those bits as signed.\n",
    "print(np.int32(np.uint32(2717999451)))"
   ]
  },
  {
   "cell_type": "code",
   "execution_count": 84,
   "id": "5898234d-981f-45c5-ae32-40557dc9fd49",
   "metadata": {},
   "outputs": [
    {
     "name": "stdout",
     "output_type": "stream",
     "text": [
      "1576967845\n",
      "5\n",
      "100\n"
     ]
    }
   ],
   "source": [
    "print(f(-1576967845)) # => 1576967845\n",
    "print(f(-5)) # => 5\n",
    "print(f(-100)) # => 100"
   ]
  },
  {
   "cell_type": "markdown",
   "id": "c65be7e3-8a7a-4b1d-97ff-caa5c7f53a7e",
   "metadata": {},
   "source": [
    "This function appears to return the absolute value of an integer. But you are still sceptical. How can you be sure that this is what this function does? And maybe even more importantly, that it won't break for a very specific input value?\n",
    "\n",
    "Let's try to prove our new theory."
   ]
  },
  {
   "cell_type": "code",
   "execution_count": 10,
   "id": "a690874a-482b-42b7-9da9-b6eefdb470eb",
   "metadata": {},
   "outputs": [
    {
     "name": "stdout",
     "output_type": "stream",
     "text": [
      "proved\n"
     ]
    }
   ],
   "source": [
    "x = BitVec(\"x\",32)\n",
    "y = f(x)\n",
    "prove(If(x >= 0,y == x, y == -x))\n",
    "#prove(If(x >= 0,y == x, y == -x), show=True)"
   ]
  },
  {
   "cell_type": "markdown",
   "id": "fe1912ac-6c36-4bd1-ae4e-9c5b813833d9",
   "metadata": {},
   "source": [
    "```\n",
    "Speaker notes:\n",
    "In Z3 a proof is an exhaustive search without finding a counter example.\n",
    "Switch commented lines just above. Show how the proof works.\n",
    "```"
   ]
  },
  {
   "cell_type": "markdown",
   "id": "0bd994da-df2d-47a4-bb66-607bd1c5f396",
   "metadata": {},
   "source": [
    "## Dependency Chaos\n",
    "\n",
    "After rolling out an update for *ZChat*, you notice that some services on that same server, including *MediaZync* have stopped working. After an investigation you determine that this update also installed the package *NetLib*.\n",
    "\n",
    "Unfortunately, other services running on that server rely on a different package that is incompatible with *NetLib*. It looks like there might be a solution that works for both. How can you find this solution and verify that this won't cause further disruptions?"
   ]
  },
  {
   "cell_type": "markdown",
   "id": "793c6468-4e1c-4288-99aa-9ea5a71ee143",
   "metadata": {},
   "source": [
    "![title](Images/deps.png)"
   ]
  },
  {
   "cell_type": "markdown",
   "id": "f71de4c2-7c6c-4813-afc9-2b4653ea6735",
   "metadata": {},
   "source": [
    "```\n",
    "Speaker notes:\n",
    "Obligatory joke about just using docker.\n",
    "```"
   ]
  },
  {
   "cell_type": "code",
   "execution_count": 11,
   "id": "7ac92170-3411-42c8-8fa1-52b30db2cb59",
   "metadata": {},
   "outputs": [],
   "source": [
    "## Generate Constraint for Package dependency\n",
    "def DependsOn(package, deps):\n",
    "    return And( [ Implies(package, dep) for dep in deps ] )\n",
    "\n",
    "# Generate constraint for conflicting packages\n",
    "def Conflict(p1, p2):\n",
    "    return Or(Not(p1), Not(p2))"
   ]
  },
  {
   "cell_type": "code",
   "execution_count": 12,
   "id": "5d949813-5cdc-4414-b5df-601ea3b0d3ea",
   "metadata": {},
   "outputs": [
    {
     "name": "stdout",
     "output_type": "stream",
     "text": [
      "[b = True,\n",
      " g = False,\n",
      " d = True,\n",
      " NetLib = True,\n",
      " c = True,\n",
      " a = True,\n",
      " e = False,\n",
      " ZChat = True]\n"
     ]
    }
   ],
   "source": [
    "a, b, c, d, e, netlib, g, zchat = Bools('a b c d e NetLib g ZChat')\n",
    "\n",
    "s = Solver()\n",
    "\n",
    "constraints = [\n",
    "    DependsOn(a, [b, c]),\n",
    "    DependsOn(b, [d]),\n",
    "    DependsOn(c, [Or(d, e), Or(netlib, g)]),\n",
    "    Conflict(d, e),\n",
    "    Conflict(netlib, e),\n",
    "    a,\n",
    "    zchat\n",
    "    ]\n",
    "\n",
    "s.add(constraints)\n",
    "\n",
    "if s.check() == sat:\n",
    "    print(s.model())"
   ]
  },
  {
   "cell_type": "markdown",
   "id": "b46eabbf-dfbd-403a-8cb8-b86e16ad9f34",
   "metadata": {},
   "source": [
    "## Optimizing dinner with Z3\n",
    "To reward you for your great work, management decides to treat your team to a nice dinner. However, you have a very strict budget allocated for every minute detail of your meal. They even gave you an upper limit for much you can spend on appetizers!  \n",
    "In an attempt to get every single cent from management, the following scene unfolds:\n",
    "![title](https://imgs.xkcd.com/comics/np_complete.png)\n",
    "\n",
    "[Source - xkcd 287](https://www.explainxkcd.com/wiki/index.php/287:_NP-Complete)\n",
    "\n",
    "This problem is a variation of the knapsack problem and NP-complete.\n",
    "You decide to help the waiter out and pull out your laptop:"
   ]
  },
  {
   "cell_type": "code",
   "execution_count": 13,
   "id": "943d38aa-62b8-46ab-8395-73fbde70ec85",
   "metadata": {},
   "outputs": [
    {
     "name": "stdout",
     "output_type": "stream",
     "text": [
      "7 Mixed Fruit\n",
      "0 French Fries\n",
      "0 Side Salad\n",
      "0 Hot Wings\n",
      "0 Mozzarella Sticks\n",
      "0 Sampler Plate\n",
      "\n"
     ]
    }
   ],
   "source": [
    "appetizers = [\"Mixed Fruit\", \"French Fries\", \"Side Salad\", \"Hot Wings\", \"Mozzarella Sticks\", \"Sampler Plate\"]\n",
    "prices = [2.15, 2.75, 3.35, 3.55, 4.20, 5.80]\n",
    "\n",
    "a = IntVector('a', 6) # Int vector with 6 variables\n",
    "s = Solver()\n",
    "\n",
    "price_products = [price * var for price,var in zip(prices,a)]\n",
    "total = sum(price_products)\n",
    "\n",
    "#print(total)\n",
    "\n",
    "s.add(total == 15.05)\n",
    "\n",
    "for i in range(6):\n",
    "    s.add(a[i] >= 0)\n",
    "\n",
    "#s.add(a[0] != 7)\n",
    "if s.check() == sat:\n",
    "    m = s.model()\n",
    "    for i in range(6):\n",
    "        print(m.evaluate(a[i]),appetizers[i])\n",
    "    print()\n"
   ]
  },
  {
   "cell_type": "markdown",
   "id": "2c23ebdf-99d4-4279-b73f-e62339663d5d",
   "metadata": {},
   "source": [
    "```\n",
    "Speaker Notes:\n",
    "a coworker pipes up, they don't want Mixed Fruit, add another restriction\n",
    "\n",
    "Show total as Z3 interprets it\n",
    "```"
   ]
  },
  {
   "cell_type": "markdown",
   "id": "9af54cdf-16d0-493e-bd3f-26678dd1933c",
   "metadata": {},
   "source": [
    "## Sudoku\n",
    "\n",
    "During the dinner, the conversation shifts from work to leisure and someone mentions a challenging Sudoku puzzle they've been struggling with. You decide to demonstrate how versatile Z3 can be. It can even be used to solve logic puzzles.\n",
    "```\n",
    "Speaker Notes: Switch to sudoku solver notebook\n",
    "```"
   ]
  },
  {
   "cell_type": "markdown",
   "id": "13b433c7-faca-48d0-818f-d7e1ce602052",
   "metadata": {},
   "source": [
    "## Z3 and Philosophy"
   ]
  },
  {
   "cell_type": "markdown",
   "id": "23f82245-10da-4a03-a1e6-48422d5038ee",
   "metadata": {},
   "source": [
    "You somehow land in a philosophical mood. #todo Come up with a better story."
   ]
  },
  {
   "cell_type": "markdown",
   "id": "e58281fc-fd0d-4e4c-9ed3-e3ed7d7abdc6",
   "metadata": {},
   "source": [
    "Axioms:\n",
    "1. All humans are mortal.\n",
    "2. Socrates is a man.  \n",
    "\n",
    "Conclusion :\n",
    "- Socrates is mortal"
   ]
  },
  {
   "cell_type": "code",
   "execution_count": 32,
   "id": "7c5b2016-4274-4a33-bc87-7c1080644559",
   "metadata": {},
   "outputs": [
    {
     "name": "stdout",
     "output_type": "stream",
     "text": [
      "sat\n"
     ]
    }
   ],
   "source": [
    "Object = DeclareSort('Object') # uninterpreted sort\n",
    "\n",
    "Human = Function('Human', Object, BoolSort())\n",
    "Mortal = Function('Mortal', Object, BoolSort())\n",
    "\n",
    "socrates = Const('socrates', Object)\n",
    "\n",
    "x = Const('x', Object)\n",
    "\n",
    "axioms = [\n",
    "    ForAll([x], Implies(Human(x), Mortal(x))),\n",
    "    Human(socrates)\n",
    "]\n",
    "\n",
    "\n",
    "s = Solver()\n",
    "s.add(axioms)\n",
    "\n",
    "print(s.check()) # sat => axioms are coherent"
   ]
  },
  {
   "cell_type": "code",
   "execution_count": 29,
   "id": "4d303a09-8fc6-4be1-87c0-a67ce29420a6",
   "metadata": {},
   "outputs": [
    {
     "name": "stdout",
     "output_type": "stream",
     "text": [
      "unsat\n"
     ]
    }
   ],
   "source": [
    "# classical refutation\n",
    "s.add(Not(Mortal(socrates))) # Socrates is not mortal\n",
    "\n",
    "print(s.check()) # prints unsat so socrates is Mortal\n"
   ]
  },
  {
   "cell_type": "markdown",
   "id": "2db48046-1b15-4a0b-9c07-dec2b1d9129f",
   "metadata": {},
   "source": [
    "Speaker Notes:  \n",
    "Covers:\n",
    "- Uninterpreted/free Sorts : Sorts with no a-priori interpretation\n",
    "- uninterpreted/free functions\n",
    "- Quantifiers\n",
    "  \n",
    "[Link](https://microsoft.github.io/z3guide/programming/Z3%20Python%20-%20Readonly/advanced#uninterpreted-sorts)"
   ]
  },
  {
   "cell_type": "markdown",
   "id": "779f2e0c-cf72-4168-95e7-9f3fe41e9153",
   "metadata": {},
   "source": [
    "## Simpsons\n",
    "\n",
    "While watching TV ... #todo"
   ]
  },
  {
   "cell_type": "markdown",
   "id": "505840d9-ba5b-45e6-b8e4-f092f7def62e",
   "metadata": {},
   "source": [
    "### Entailment\n",
    "\n",
    "Facts:\n",
    "- Marge is parent of Lisa.\n",
    "- Homer is parent of Bart.\n",
    "- Homer is the father of Bart.\n",
    "\n",
    "Rules:\n",
    "\n",
    "![img](Images/father_parent.png)\n",
    "\n",
    "\n",
    "\n",
    "![img](Images/parent_sibling.png)\n",
    "\n"
   ]
  },
  {
   "cell_type": "code",
   "execution_count": 87,
   "id": "c34c63d8-5672-4606-95a5-0f833fc86e47",
   "metadata": {},
   "outputs": [
    {
     "name": "stdout",
     "output_type": "stream",
     "text": [
      "sat\n"
     ]
    }
   ],
   "source": [
    "Person = DeclareSort('Person') # uninterpreted sort\n",
    "\n",
    "homer, marge, bart, lisa = Consts(\"homer marge bart lisa\", Person)\n",
    "hasFather = Function(\"hasFather\", Person, Person)\n",
    "parentOf = Function(\"parentOf\", Person, Person, BoolSort())\n",
    "siblings = Function(\"siblings\", Person, Person, BoolSort())\n",
    "\n",
    "x = Const('x', Person)\n",
    "y = Const('y', Person)\n",
    "z = Const('z', Person)\n",
    "\n",
    "axioms = [\n",
    "    parentOf(marge,lisa),\n",
    "    parentOf(homer,lisa),\n",
    "    hasFather(bart) == homer,\n",
    "]\n",
    "rules = [\n",
    "    ForAll([x,y], Implies(hasFather(x) == y, parentOf(y,x))),\n",
    "    ForAll([x,y,z], \n",
    "        Implies(\n",
    "            And(parentOf(x,y), parentOf(x,z)),\n",
    "            siblings(y,z)\n",
    "    )),\n",
    "]\n",
    "\n",
    "\n",
    "s = Solver()\n",
    "s.add(axioms)\n",
    "s.add(rules)\n",
    "\n",
    "#s.add(Not(siblings(bart,lisa)))\n",
    "\n",
    "print(s.check())\n"
   ]
  },
  {
   "cell_type": "code",
   "execution_count": null,
   "id": "9f746973-7ade-42ec-ba8b-66ae3f03e9f7",
   "metadata": {},
   "outputs": [],
   "source": []
  }
 ],
 "metadata": {
  "kernelspec": {
   "display_name": "Python 3 (ipykernel)",
   "language": "python",
   "name": "python3"
  },
  "language_info": {
   "codemirror_mode": {
    "name": "ipython",
    "version": 3
   },
   "file_extension": ".py",
   "mimetype": "text/x-python",
   "name": "python",
   "nbconvert_exporter": "python",
   "pygments_lexer": "ipython3",
   "version": "3.12.4"
  }
 },
 "nbformat": 4,
 "nbformat_minor": 5
}
