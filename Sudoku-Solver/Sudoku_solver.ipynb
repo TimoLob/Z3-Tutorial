{
 "cells": [
  {
   "cell_type": "code",
   "execution_count": 138,
   "id": "e256fe03-b661-4ef2-8203-94f7d784812b",
   "metadata": {},
   "outputs": [],
   "source": [
    "from z3 import *\n",
    "import time"
   ]
  },
  {
   "cell_type": "code",
   "execution_count": 128,
   "id": "49aee870-c101-4f0a-89a0-e144c7608362",
   "metadata": {},
   "outputs": [],
   "source": [
    "class Sudoku:\n",
    "    def __init__(self,sudoku_str):\n",
    "        self.sudoku_str = sudoku_str\n",
    "\n",
    "    def get_char(self,row,column):\n",
    "        return self.sudoku_str[row*9 + column]\n",
    "    \n",
    "    def __repr__(self):\n",
    "        output = \"\"\n",
    "        for row in range(0,9):\n",
    "            for column in range(0,9):\n",
    "                c = self.sudoku_str[row*9 + column]\n",
    "                output += str(c)\n",
    "                if column in [2,5]:\n",
    "                    output += \"|\"\n",
    "            output += \"\\n\"\n",
    "            if row in [2,5]:\n",
    "                output+=\"-\"*11 + \"\\n\"\n",
    "        return output"
   ]
  },
  {
   "cell_type": "code",
   "execution_count": 129,
   "id": "0e1ded27-a926-4c8a-b4d1-ea393a959302",
   "metadata": {},
   "outputs": [],
   "source": [
    "def load_sudokus(filename : str):\n",
    "    with open(filename,\"r\") as infile:\n",
    "        sudokus = []\n",
    "        for line in infile.readlines():\n",
    "            sudoku = []\n",
    "            for char in line.strip():\n",
    "                if not (char in [\"0\", \".\", \"_\"]):\n",
    "                    sudoku.append(int(char))\n",
    "                else:\n",
    "                    sudoku.append(\" \")\n",
    "            sudokus.append(Sudoku(sudoku))\n",
    "\n",
    "    return sudokus\n",
    "            \n",
    "sudokus = load_sudokus(\"easy50.txt\")        "
   ]
  },
  {
   "cell_type": "code",
   "execution_count": 141,
   "id": "a122978a-1265-4bb7-b91f-53e3d8f3668e",
   "metadata": {},
   "outputs": [],
   "source": [
    "def solve_sudoku(sudoku : Sudoku):\n",
    "    solver = Solver()\n",
    "    X = [[ Int(\"x_%s_%s\" % (row, column)) for row in range(9) ] for column in range(9) ]\n",
    "\n",
    "    # Each digit must be 1 <= x <= 9\n",
    "    for row in range(9):\n",
    "        for column in range(9):\n",
    "            solver.add(And(X[row][column] >= 1, X[row][column] <= 9))\n",
    "            \n",
    "    # Add initial numbers of sudoku puzzle\n",
    "    for row in range(9):\n",
    "        for column in range(9):\n",
    "            digit = sudoku.get_char(row,column)\n",
    "            if digit != \" \":\n",
    "                solver.add(X[row][column] == digit)\n",
    "\n",
    "    # Each row must contain distinct numbers\n",
    "    for row in range(9):\n",
    "        row = X[row]\n",
    "        solver.add(Distinct(row))\n",
    "\n",
    "    # Each column must contain distinct numbers\n",
    "    for column in range(9):\n",
    "        column = [X[row][column] for row in range(9)]\n",
    "        solver.add(Distinct(column))\n",
    "        \n",
    "    #  Each 3x3 Cell must contain distinct numbers\n",
    "    for x in range(3):\n",
    "        for y in range(3):\n",
    "            cell = []\n",
    "            for row in range(x*3,(x+1)*3):\n",
    "                for column in range(y*3,(y+1)*3):\n",
    "                    cell.append(X[row][column])\n",
    "            solver.add(Distinct(cell))\n",
    "                    \n",
    "            \n",
    "    if solver.check() == sat:\n",
    "        m = solver.model()\n",
    "        output = \"\"\n",
    "        for j in range(9):\n",
    "            for i in range(9):\n",
    "                output+=str(m.evaluate(X[j][i]))\n",
    "       \n",
    "        return Sudoku(output)\n",
    "    print(\"unsat\")\n",
    "    return None\n",
    "            "
   ]
  },
  {
   "cell_type": "code",
   "execution_count": 145,
   "id": "1ac96a55-98b5-4d17-967f-f21d6eade5e8",
   "metadata": {},
   "outputs": [
    {
     "name": "stdout",
     "output_type": "stream",
     "text": [
      "Solved 50 sudokus in 1.6290171146392822 s.\n"
     ]
    }
   ],
   "source": [
    "sudokus = load_sudokus(\"easy50.txt\")        \n",
    "\n",
    "t0 = time.time()\n",
    "for sudoku in sudokus:\n",
    "    solve_sudoku(sudoku)\n",
    "t1 = time.time()\n",
    "total = t1-t0\n",
    "\n",
    "print(f\"Solved {len(sudokus)} sudokus in {total}s.\")"
   ]
  },
  {
   "cell_type": "code",
   "execution_count": null,
   "id": "7104a628-5781-47d1-ab02-cd2bbd257ccb",
   "metadata": {},
   "outputs": [],
   "source": []
  }
 ],
 "metadata": {
  "kernelspec": {
   "display_name": "Python 3 (ipykernel)",
   "language": "python",
   "name": "python3"
  },
  "language_info": {
   "codemirror_mode": {
    "name": "ipython",
    "version": 3
   },
   "file_extension": ".py",
   "mimetype": "text/x-python",
   "name": "python",
   "nbconvert_exporter": "python",
   "pygments_lexer": "ipython3",
   "version": "3.12.4"
  }
 },
 "nbformat": 4,
 "nbformat_minor": 5
}
