{
 "cells": [
  {
   "cell_type": "code",
   "execution_count": 22,
   "id": "966e10c8-d368-4040-94a4-ebd6cb3753dc",
   "metadata": {},
   "outputs": [],
   "source": [
    "from z3 import *"
   ]
  },
  {
   "cell_type": "markdown",
   "id": "683021a4-8bd1-488b-92af-febfee850626",
   "metadata": {},
   "source": [
    "## Scheduling a Factory\n",
    "\n",
    "Your company can produce 3 different products, here simply named A, B and C.\n",
    "You have a limited amount of labor hours, machine time and raw material.\n",
    "Maximize the profit given the following constraints.\n",
    "\n",
    "You have 250 labor hours, 400 machine hours and 300 units of material.\n",
    "\n",
    "|Product|Profit|Labor Hours|Machine Time|Raw Materials|\n",
    "|---|---|---|---|---|\n",
    "|A|30|3|2|4|\n",
    "|B|40|5|3|3|\n",
    "|C|50|7|6|2|\n"
   ]
  },
  {
   "cell_type": "code",
   "execution_count": 53,
   "id": "01bda2bf-8330-4221-8a15-5001e402a098",
   "metadata": {},
   "outputs": [
    {
     "name": "stdout",
     "output_type": "stream",
     "text": [
      "Optimal production plan:\n",
      "Produce 70 units of Product A\n",
      "Produce 5 units of Product B\n",
      "Produce 2 units of Product C\n",
      "Maximum Profit: $2400\n"
     ]
    }
   ],
   "source": [
    "A = Int('A')\n",
    "B = Int('B')\n",
    "C = Int('C')\n",
    "\n",
    "optimizer = Optimize() # Create a Z3 optimize environment\n",
    "\n",
    "# Labor hours\n",
    "optimizer.add(3*A + 5*B+ 7*C <= 250)\n",
    "\n",
    "# Machine time\n",
    "optimizer.add(2*A + 3*B + 6*C <= 400)\n",
    "\n",
    "# Raw materials\n",
    "optimizer.add(4*A + 3*B + 2*C <= 300)\n",
    "\n",
    "# Non-negative restrictions\n",
    "optimizer.add([A>=0, B>=0, C>=0])\n",
    "\n",
    "\n",
    "# Define the objective function\n",
    "profit = 30 * A + 40 * B + 50 * C\n",
    "\n",
    "# Maximize the objective function\n",
    "optimizer.maximize(profit)\n",
    "\n",
    "# Check if the problem can be solved\n",
    "if optimizer.check() == sat:\n",
    "    model = optimizer.model()\n",
    "    print(\"Optimal production plan:\")\n",
    "    print(f\"Produce {model.evaluate(A)} units of Product A\")\n",
    "    print(f\"Produce {model.evaluate(B)} units of Product B\")\n",
    "    print(f\"Produce {model.evaluate(C)} units of Product C\")\n",
    "    print(f\"Maximum Profit: ${model.evaluate(objective)}\")\n",
    "else:\n",
    "    print(\"No feasible production plan found.\")\n"
   ]
  },
  {
   "cell_type": "markdown",
   "id": "73a80956-5ecb-4e60-9013-5ab6e89acbfd",
   "metadata": {},
   "source": [
    "After showing this new plan to your boss, they exclaim: This can't work. 70 units of A won't sell without enough C. If we produce more than 30 A, then we should produce at least 15 C."
   ]
  },
  {
   "cell_type": "code",
   "execution_count": 54,
   "id": "04ee175b-e8b6-4bee-8b46-1c223648b34d",
   "metadata": {},
   "outputs": [
    {
     "name": "stdout",
     "output_type": "stream",
     "text": [
      "Optimal production plan:\n",
      "Produce 48 units of Product A\n",
      "Produce 0 units of Product B\n",
      "Produce 15 units of Product C\n",
      "Maximum Profit: $2190\n"
     ]
    }
   ],
   "source": [
    "optimizer.push()\n",
    "optimizer.add(If(A > 30, C >= 15, True))\n",
    "\n",
    "# Check if the problem can be solved\n",
    "if optimizer.check() == sat:\n",
    "    model = optimizer.model()\n",
    "    print(\"Optimal production plan:\")\n",
    "    print(f\"Produce {model.evaluate(A)} units of Product A\")\n",
    "    print(f\"Produce {model.evaluate(B)} units of Product B\")\n",
    "    print(f\"Produce {model.evaluate(C)} units of Product C\")\n",
    "    print(f\"Maximum Profit: ${model.evaluate(objective)}\")\n",
    "else:\n",
    "    print(\"No feasible production plan found.\")\n",
    "optimizer.pop()\n"
   ]
  },
  {
   "cell_type": "markdown",
   "id": "2c6b8aec-a1e0-4ece-b466-8d766c732204",
   "metadata": {},
   "source": [
    "## Code Verification\n",
    "You are a software developer and during code review, you encounter some strange looking code.\n",
    "```c\n",
    "// Magic function\n",
    "uint32_t f(int32_t v) {    \n",
    "    uint32_t r;  // result\n",
    "    int32_t const mask = v >> sizeof(int32_t) * CHAR_BIT - 1; // 4*8-1 = 31 for 32 bit integers\n",
    "    r = (v + mask) ^ mask;\n",
    "    return r;\n",
    "}\n",
    "```"
   ]
  },
  {
   "cell_type": "code",
   "execution_count": 18,
   "id": "7aaa6fa2-23f6-4c87-b1b1-e6779b0af9b1",
   "metadata": {},
   "outputs": [],
   "source": [
    "def f(v):\n",
    "    mask = v >> 31;\n",
    "    r = (v + mask) ^ mask\n",
    "    return r"
   ]
  },
  {
   "cell_type": "code",
   "execution_count": 27,
   "id": "4f7b2955-77ee-4ccc-8bfe-fbb1394d14e2",
   "metadata": {},
   "outputs": [
    {
     "data": {
      "text/plain": [
       "5"
      ]
     },
     "execution_count": 27,
     "metadata": {},
     "output_type": "execute_result"
    }
   ],
   "source": [
    "f(0) # => 0\n",
    "f(1) # => 1\n",
    "f(5) # => 5\n",
    "f(-5) # => 5\n",
    "# Absolute value ?"
   ]
  },
  {
   "cell_type": "code",
   "execution_count": 29,
   "id": "a690874a-482b-42b7-9da9-b6eefdb470eb",
   "metadata": {},
   "outputs": [
    {
     "name": "stdout",
     "output_type": "stream",
     "text": [
      "x + (x >> 31) ^ x >> 31\n",
      "proved\n"
     ]
    }
   ],
   "source": [
    "x = BitVec(\"x\",32)\n",
    "y = f(x)\n",
    "print(y)\n",
    "prove(If(x >= 0,y == x, y == -x))"
   ]
  },
  {
   "cell_type": "code",
   "execution_count": 33,
   "id": "40bc9bb1-81b6-495a-8930-d2b853ad2577",
   "metadata": {},
   "outputs": [
    {
     "name": "stdout",
     "output_type": "stream",
     "text": [
      "Optimal production plan:\n",
      "Produce 70 units of Product A\n",
      "Produce 5 units of Product B\n",
      "Produce 2 units of Product C\n",
      "Maximum Profit: $2400\n"
     ]
    }
   ],
   "source": []
  },
  {
   "cell_type": "code",
   "execution_count": 55,
   "id": "ddc0e79d-d171-40a0-aeb9-b07d04f5d4f8",
   "metadata": {},
   "outputs": [
    {
     "name": "stdout",
     "output_type": "stream",
     "text": [
      "Optimal production plan:\n",
      "Produce 188 units of Smartphones\n",
      "Produce 20 units of Phone Cases\n",
      "Produce 16 units of Charging Stations\n",
      "Maximum Profit: $58400\n"
     ]
    }
   ],
   "source": [
    "from z3 import *\n",
    "\n",
    "# Declare integer variables for the number of units to produce for each product\n",
    "A = Int('A')  # Smartphones\n",
    "B = Int('B')  # Phone Cases\n",
    "C = Int('C')  # Charging Stations\n",
    "\n",
    "# Define the profit coefficients\n",
    "profit_A = 300\n",
    "profit_B = 20\n",
    "profit_C = 100\n",
    "\n",
    "# Define the constraints\n",
    "constraints = [\n",
    "    5*A + 1*B + 3*C <= 2500,  # Labor hours constraint\n",
    "    10*A + 2*B + 5*C <= 2000,  # Raw materials constraint\n",
    "    4*A + 1*B + 2*C <= 3000,  # Machine hours constraint\n",
    "    B >= 20,  # Minimum production requirement for Phone Cases\n",
    "    If(A > 30, C >= 15, True),  # Conditional dependency: if more than 30 Smartphones are produced, then at least 15 Charging Stations must be produced\n",
    "    A >= 0,  # Non-negativity constraints\n",
    "    B >= 0,\n",
    "    C >= 0\n",
    "]\n",
    "\n",
    "# Define the objective function\n",
    "objective = profit_A * A + profit_B * B + profit_C * C\n",
    "\n",
    "# Create a solver instance\n",
    "solver = Optimize()\n",
    "\n",
    "# Add constraints to the solver\n",
    "for constraint in constraints:\n",
    "    solver.add(constraint)\n",
    "\n",
    "# Maximize the objective function\n",
    "solver.maximize(objective)\n",
    "\n",
    "# Check if the constraints are satisfiable\n",
    "if solver.check() == sat:\n",
    "    model = solver.model()\n",
    "    print(\"Optimal production plan:\")\n",
    "    print(f\"Produce {model.evaluate(A)} units of Smartphones\")\n",
    "    print(f\"Produce {model.evaluate(B)} units of Phone Cases\")\n",
    "    print(f\"Produce {model.evaluate(C)} units of Charging Stations\")\n",
    "    print(f\"Maximum Profit: ${model.evaluate(objective)}\")\n",
    "else:\n",
    "    print(\"No feasible production plan found.\")\n"
   ]
  },
  {
   "cell_type": "code",
   "execution_count": null,
   "id": "78684b27-4e08-40df-ac08-c09c04b5bf1d",
   "metadata": {},
   "outputs": [],
   "source": []
  }
 ],
 "metadata": {
  "kernelspec": {
   "display_name": "Python 3 (ipykernel)",
   "language": "python",
   "name": "python3"
  },
  "language_info": {
   "codemirror_mode": {
    "name": "ipython",
    "version": 3
   },
   "file_extension": ".py",
   "mimetype": "text/x-python",
   "name": "python",
   "nbconvert_exporter": "python",
   "pygments_lexer": "ipython3",
   "version": "3.12.4"
  }
 },
 "nbformat": 4,
 "nbformat_minor": 5
}
