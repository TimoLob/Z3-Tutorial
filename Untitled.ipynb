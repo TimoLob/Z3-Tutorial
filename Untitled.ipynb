{
 "cells": [
  {
   "cell_type": "markdown",
   "id": "2421b52a-d5a3-4e45-a533-dfdd6b6b4052",
   "metadata": {},
   "source": [
    "# OnePluZ3"
   ]
  },
  {
   "cell_type": "code",
   "execution_count": 1,
   "id": "966e10c8-d368-4040-94a4-ebd6cb3753dc",
   "metadata": {},
   "outputs": [],
   "source": [
    "from z3 import *"
   ]
  },
  {
   "cell_type": "markdown",
   "id": "683021a4-8bd1-488b-92af-febfee850626",
   "metadata": {},
   "source": [
    "## Linear Programming - Factory Production\n",
    "\n",
    "The new OnePluZ3 smartphone it about to go into production.  \n",
    "Your location can produce the smartphone and some accessories. You are tasked with finding the optimal amount of each product to produce in order to maximize profit.\n",
    "\n",
    "You have a limited amount of labor hours, machine time and raw material.\n",
    "Maximize the profit given the following constraints.\n",
    "\n",
    "You have 250 labor hours, 400 machine hours and 300 units of material.\n",
    "\n",
    "|Name|ProductID|Profit|Labor Hours|Machine Time|Raw Materials|\n",
    "|---|---|---|---|---|---|\n",
    "|Phone Case|A|10|3|3|4|\n",
    "|Phone Charger|B|30|5|3|2|\n",
    "|Smarphone|C|50|4|5|6|\n"
   ]
  },
  {
   "cell_type": "code",
   "execution_count": 2,
   "id": "01bda2bf-8330-4221-8a15-5001e402a098",
   "metadata": {},
   "outputs": [
    {
     "name": "stdout",
     "output_type": "stream",
     "text": [
      "Optimal production plan:\n",
      "Produce 0 cases.\n",
      "Produce 27 chargers.\n",
      "Produce 91 smartphones.\n",
      "Maximum Profit: $5360\n"
     ]
    }
   ],
   "source": [
    "# Define Variables. \n",
    "A = Int('A') # Number of phone cases produced\n",
    "B = Int('B') # Phone chargers\n",
    "C = Int('C') # Smartphones\n",
    "\n",
    "optimizer = Optimize() # Create a Z3 optimize environment\n",
    "\n",
    "# Labor hours\n",
    "optimizer.add(3*A + 5*B+ 4*C <= 500)\n",
    "\n",
    "# Machine time\n",
    "optimizer.add(3*A + 3*B + 5*C <= 800)\n",
    "\n",
    "# Raw materials\n",
    "optimizer.add(4*A + 2*B + 6*C <= 600)\n",
    "\n",
    "# Non-negative restrictions\n",
    "optimizer.add([A>=0, B>=0, C>=0])\n",
    "\n",
    "\n",
    "# Define the objective function\n",
    "profit = -10 * A + 30 * B + 50 * C\n",
    "\n",
    "# Maximize the objective function\n",
    "optimizer.maximize(profit)\n",
    "\n",
    "# Check if the problem can be solved\n",
    "if optimizer.check() == sat:\n",
    "    model = optimizer.model()\n",
    "    print(\"Optimal production plan:\")\n",
    "    print(f\"Produce {model.evaluate(A)} cases.\")\n",
    "    print(f\"Produce {model.evaluate(B)} chargers.\")\n",
    "    print(f\"Produce {model.evaluate(C)} smartphones.\")\n",
    "    print(f\"Maximum Profit: ${model.evaluate(profit)}\")\n",
    "else:\n",
    "    print(\"No feasible production plan found.\")\n"
   ]
  },
  {
   "cell_type": "markdown",
   "id": "73a80956-5ecb-4e60-9013-5ab6e89acbfd",
   "metadata": {},
   "source": [
    "After showing this new plan to the sales team, they add a new constraint. If we produce more than 50 Smartphones, then we should produce at least enough phone cases for 30% of those. This is supposed to increase the number of sales."
   ]
  },
  {
   "cell_type": "code",
   "execution_count": 4,
   "id": "04ee175b-e8b6-4bee-8b46-1c223648b34d",
   "metadata": {},
   "outputs": [
    {
     "name": "stdout",
     "output_type": "stream",
     "text": [
      "Optimal production plan:\n",
      "Produce 23 cases.\n",
      "Produce 25 chargers.\n",
      "Produce 76 smartphones.\n",
      "Maximum Profit: $4320\n"
     ]
    }
   ],
   "source": [
    "optimizer.push()\n",
    "optimizer.add(If(C > 50, A >= C * 0.3, True))\n",
    "\n",
    "# Check if the problem can be solved\n",
    "if optimizer.check() == sat:\n",
    "    model = optimizer.model()\n",
    "    print(\"Optimal production plan:\")\n",
    "    print(f\"Produce {model.evaluate(A)} cases.\")\n",
    "    print(f\"Produce {model.evaluate(B)} chargers.\")\n",
    "    print(f\"Produce {model.evaluate(C)} smartphones.\")\n",
    "    print(f\"Maximum Profit: ${model.evaluate(profit)}\")\n",
    "else:\n",
    "    print(\"No feasible production plan found.\")\n",
    "optimizer.pop()\n"
   ]
  },
  {
   "cell_type": "markdown",
   "id": "2c6b8aec-a1e0-4ece-b466-8d766c732204",
   "metadata": {},
   "source": [
    "## Code Verification\n",
    "The OS for the OnePluZ3 is written in C. While doing a code review of a coworkers code, you notice a strange C function.\n",
    "```c\n",
    "// Magic function\n",
    "uint32_t f(int32_t v) {    \n",
    "     \n",
    "    int32_t const mask = v >> 31;\n",
    "    uint32_t r = (v + mask) ^ mask;\n",
    "    return r;\n",
    "}\n",
    "```\n",
    "Unfortunately, your coworker left for their holiday and is unable to explain what this function is supposed to do.  \n",
    "You try to figure out what it does by modeling it in python:"
   ]
  },
  {
   "cell_type": "markdown",
   "id": "4ec18218-5ac7-44fe-8999-820b3e3c7eb0",
   "metadata": {},
   "source": [
    "```\n",
    "Speaker notes:\n",
    "Notice how you can use the function normally in python, but you can also give a Z3 expression as parameter. This is the power of operator overloading.\n",
    "```"
   ]
  },
  {
   "cell_type": "code",
   "execution_count": 9,
   "id": "7aaa6fa2-23f6-4c87-b1b1-e6779b0af9b1",
   "metadata": {},
   "outputs": [],
   "source": [
    "def f(v):\n",
    "    mask = v >> 31;\n",
    "    r = (v + mask) ^ mask\n",
    "    return r"
   ]
  },
  {
   "cell_type": "code",
   "execution_count": 10,
   "id": "4f7b2955-77ee-4ccc-8bfe-fbb1394d14e2",
   "metadata": {},
   "outputs": [
    {
     "data": {
      "text/plain": [
       "100"
      ]
     },
     "execution_count": 10,
     "metadata": {},
     "output_type": "execute_result"
    }
   ],
   "source": [
    "f(0) # => 0\n",
    "f(1) # => 1\n",
    "f(5) # => 5\n",
    "f(-5) # => 5\n",
    "f(-100) # => 100\n"
   ]
  },
  {
   "cell_type": "markdown",
   "id": "59f251bd-005b-40a7-a9c1-40bdce6eee79",
   "metadata": {},
   "source": [
    "This function appears to return the absolute value of an integer. But you are still sceptical. How can you be sure that this is what this function does? And more importantly, that it won't break for a very specific input value?\n",
    "\n",
    "You decide to see if you can proof your theory using Z3."
   ]
  },
  {
   "cell_type": "code",
   "execution_count": 11,
   "id": "a690874a-482b-42b7-9da9-b6eefdb470eb",
   "metadata": {},
   "outputs": [
    {
     "name": "stdout",
     "output_type": "stream",
     "text": [
      "x + (x >> 31) ^ x >> 31\n",
      "proved\n"
     ]
    }
   ],
   "source": [
    "x = BitVec(\"x\",32)\n",
    "y = f(x)\n",
    "print(y)\n",
    "prove(If(x >= 0,y == x, y == -x))"
   ]
  },
  {
   "cell_type": "markdown",
   "id": "fe1912ac-6c36-4bd1-ae4e-9c5b813833d9",
   "metadata": {},
   "source": [
    "```\n",
    "Speaker notes:\n",
    "In Z3 a proof is an exhaustive search without finding a counter example.\n",
    "```"
   ]
  },
  {
   "cell_type": "markdown",
   "id": "0bd994da-df2d-47a4-bb66-607bd1c5f396",
   "metadata": {},
   "source": [
    "## Dependency Chaos\n",
    "\n",
    "After rolling out an update for *ZChat*, you notice that some services on that same server, including *MediaZync* have stopped working. After an investigation you determine that this update also installed the package *NetLib*.\n",
    "\n",
    "Unfortunately, other services running on that server rely on a different package that is incompatible with *NetLib*. It looks like there might be a solution that works for both. How can you find this solution and verify that this won't cause further disruptions?"
   ]
  },
  {
   "cell_type": "markdown",
   "id": "793c6468-4e1c-4288-99aa-9ea5a71ee143",
   "metadata": {},
   "source": [
    "![title](Images/deps.png)"
   ]
  },
  {
   "cell_type": "markdown",
   "id": "f71de4c2-7c6c-4813-afc9-2b4653ea6735",
   "metadata": {},
   "source": [
    "```\n",
    "Speaker notes:\n",
    "Obligatory joke about just using docker.\n",
    "```"
   ]
  },
  {
   "cell_type": "code",
   "execution_count": 27,
   "id": "7ac92170-3411-42c8-8fa1-52b30db2cb59",
   "metadata": {},
   "outputs": [],
   "source": [
    "## Generate Constraint for Package dependency\n",
    "def DependsOn(package, deps):\n",
    "    return And( [ Implies(package, dep) for dep in deps ] )\n",
    "\n",
    "# Generate constraint for conflicting packages\n",
    "def Conflict(p1, p2):\n",
    "    return Or(Not(p1), Not(p2))"
   ]
  },
  {
   "cell_type": "code",
   "execution_count": 28,
   "id": "5d949813-5cdc-4414-b5df-601ea3b0d3ea",
   "metadata": {},
   "outputs": [
    {
     "name": "stdout",
     "output_type": "stream",
     "text": [
      "[b = True,\n",
      " g = False,\n",
      " d = True,\n",
      " NetLib = True,\n",
      " c = True,\n",
      " a = True,\n",
      " e = False,\n",
      " ZChat = True]\n"
     ]
    }
   ],
   "source": [
    "a, b, c, d, e, netlib, g, zchat = Bools('a b c d e NetLib g ZChat')\n",
    "\n",
    "s = Solver()\n",
    "\n",
    "constraints = [\n",
    "    DependsOn(a, [b, c]),\n",
    "    DependsOn(b, [d]),\n",
    "    DependsOn(c, [Or(d, e), Or(netlib, g)]),\n",
    "    Conflict(d, e),\n",
    "    Conflict(netlib, e),\n",
    "    a, \n",
    "    zchat\n",
    "    ]\n",
    "\n",
    "s.add(constraints)\n",
    "\n",
    "if s.check() == sat:\n",
    "    print(s.model())"
   ]
  },
  {
   "cell_type": "code",
   "execution_count": null,
   "id": "2ec67ae6-1bf0-4c82-9c88-d7c28f14b403",
   "metadata": {},
   "outputs": [],
   "source": []
  }
 ],
 "metadata": {
  "kernelspec": {
   "display_name": "Python 3 (ipykernel)",
   "language": "python",
   "name": "python3"
  },
  "language_info": {
   "codemirror_mode": {
    "name": "ipython",
    "version": 3
   },
   "file_extension": ".py",
   "mimetype": "text/x-python",
   "name": "python",
   "nbconvert_exporter": "python",
   "pygments_lexer": "ipython3",
   "version": "3.12.4"
  }
 },
 "nbformat": 4,
 "nbformat_minor": 5
}
