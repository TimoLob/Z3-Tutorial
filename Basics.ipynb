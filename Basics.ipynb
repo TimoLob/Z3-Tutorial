{
 "cells": [
  {
   "cell_type": "markdown",
   "id": "5ceb636a-2973-4ba9-adf3-3b39ae948542",
   "metadata": {},
   "source": [
    "# Installation"
   ]
  },
  {
   "cell_type": "code",
   "execution_count": 1,
   "id": "c8e7b6ef-4651-406b-88e0-b3d210c1108a",
   "metadata": {},
   "outputs": [],
   "source": [
    "#!pip install z3-solver"
   ]
  },
  {
   "cell_type": "code",
   "execution_count": 2,
   "id": "566fd7ff-6fdf-4b00-a3b8-80f9b92fe7c6",
   "metadata": {},
   "outputs": [],
   "source": [
    "from z3 import *\n",
    "set_option(html_mode=False)"
   ]
  },
  {
   "cell_type": "markdown",
   "id": "be868df0-0dae-4b73-9f7e-08611bd2fb0e",
   "metadata": {},
   "source": [
    "## Sorts\n",
    "\n",
    "Sorts are the datatypes that the SMT solver can work on."
   ]
  },
  {
   "cell_type": "code",
   "execution_count": 3,
   "id": "15afb1d1-9d3a-4357-8d95-01dd633a2219",
   "metadata": {},
   "outputs": [],
   "source": [
    "# Bool\n",
    "x = Bool('a')\n",
    "\n",
    "a = BoolVal(True)\n",
    "b = BoolVal(False)\n",
    "\n",
    "# Integers\n",
    "x = Int('x')\n",
    "y = Int('y')\n",
    "\n",
    "a = IntVal(5)\n",
    "\n",
    "# Real numbers\n",
    "x = Real('x')\n",
    "y,z = Reals(\"y z\")\n",
    "\n",
    "a = RealVal(3.141)\n",
    "b = Q(1,3) # 1/3\n",
    "\n",
    "# Bit-vector\n",
    "x = BitVec('x', 16) # 16 Bit\n",
    "y = BitVec('y', 32) # 32 Bit\n",
    "\n",
    "a = BitVecVal(16, 32) # 32 Bit vector with value 16 (#x00000010)\n"
   ]
  },
  {
   "cell_type": "code",
   "execution_count": 4,
   "id": "ffa59510-7d07-46c4-8054-c669f27d736d",
   "metadata": {},
   "outputs": [
    {
     "name": "stdout",
     "output_type": "stream",
     "text": [
      "3333333333333333/10000000000000000\n",
      "1/3\n",
      "(/ 3333333333333333.0 10000000000000000.0)\n",
      "(/ 1.0 3.0)\n"
     ]
    }
   ],
   "source": [
    "# Common Mistake with rational numbers\n",
    "print(RealVal(1/3))\n",
    "print(Q(1,3))\n",
    "\n",
    "# Gets internal, symbolic-representation in Lisp-like notation\n",
    "print(RealVal(1/3).sexpr())\n",
    "print(Q(1,3).sexpr())"
   ]
  },
  {
   "cell_type": "markdown",
   "id": "9d7c1834-d8b2-4be8-a12d-23ca15e8239e",
   "metadata": {},
   "source": [
    "### Preview: Composite Sorts\n",
    "- Arrays\n",
    "- Tuples\n",
    "- Records\n",
    "- Enumerations\n",
    "\n",
    "and User Defined Sorts."
   ]
  },
  {
   "cell_type": "markdown",
   "id": "f1387071-7fc4-4165-a53d-2a40fddfaacf",
   "metadata": {},
   "source": [
    "## Using the Z3-Solver"
   ]
  },
  {
   "cell_type": "markdown",
   "id": "49038b5a-dbf9-4408-81f5-65f54a485f61",
   "metadata": {},
   "source": [
    "### System of linear equations\n",
    "$$\n",
    "\\begin{align}\n",
    "3x + 2y -z &= 1 \\\\\n",
    "2x-2y+4z &= -2 \\\\\n",
    "-x +  \\frac{1}{2}y -z &=0\n",
    "\\end{align}\n",
    "$$"
   ]
  },
  {
   "cell_type": "code",
   "execution_count": 5,
   "id": "77ed5e40-ac40-4e55-8232-c86aed6a524e",
   "metadata": {},
   "outputs": [
    {
     "name": "stdout",
     "output_type": "stream",
     "text": [
      "x=1 y=-2 z=-2\n"
     ]
    }
   ],
   "source": [
    "x,y,z = Reals(\"x y z\")\n",
    "\n",
    "s = Solver()\n",
    "s.add(3*x + 2*y -z == 1)\n",
    "s.add(2*x - 2*y +4*z == -2)\n",
    "s.add(-1*x + Q(1,2) * y - z == 0)\n",
    "\n",
    "if s.check() == sat:\n",
    "    m = s.model()\n",
    "    x = m.evaluate(x)\n",
    "    y = m.evaluate(y)\n",
    "    z = m.evaluate(z)\n",
    "    print(f\"{x=} {y=} {z=}\")\n",
    "else:\n",
    "    print(s.check())"
   ]
  },
  {
   "cell_type": "markdown",
   "id": "4561666f-6cd3-45b0-8293-8b2170f1b583",
   "metadata": {},
   "source": [
    "$$\n",
    "\\begin{align}\n",
    "2x - 4y +z &= 3 \\\\\n",
    "8x-2y+4z &= 7 \\\\\n",
    "-4x +  y -2z &=14\n",
    "\\end{align}\n",
    "$$"
   ]
  },
  {
   "cell_type": "code",
   "execution_count": 6,
   "id": "74837562-e9ef-4099-9190-b69a0cf778ed",
   "metadata": {},
   "outputs": [
    {
     "name": "stdout",
     "output_type": "stream",
     "text": [
      "unsat\n"
     ]
    }
   ],
   "source": [
    "x,y,z = Reals(\"x y z\")\n",
    "\n",
    "s = Solver()\n",
    "s.add(2*x - 4*y + z == 3)\n",
    "s.add(8*x -2*y +4*z == 7)\n",
    "s.add(-4*x + y -2*z == 14)\n",
    "\n",
    "if s.check() == sat:\n",
    "    m = s.model()\n",
    "    print(m)\n",
    "else:\n",
    "    print(s.check())"
   ]
  },
  {
   "cell_type": "markdown",
   "id": "64627f91-435a-434a-86e9-c6dad3741399",
   "metadata": {},
   "source": [
    "### Limits of Z3"
   ]
  },
  {
   "cell_type": "code",
   "execution_count": 7,
   "id": "67726022-6f58-4ebb-a15f-2a762d4df1cd",
   "metadata": {},
   "outputs": [
    {
     "name": "stdout",
     "output_type": "stream",
     "text": [
      "unknown\n"
     ]
    }
   ],
   "source": [
    "x= Int(\"x\")\n",
    "\n",
    "s = Solver()\n",
    "s.add(2**x == 1024) # 2**10 == 1024\n",
    "if s.check() == sat:\n",
    "    m = s.model()\n",
    "    print(m)\n",
    "else:\n",
    "    print(s.check())"
   ]
  },
  {
   "cell_type": "markdown",
   "id": "038c4cb5-1025-4c45-a088-6607eb8528c7",
   "metadata": {},
   "source": [
    "## The Knapsack problem\n",
    "![title](https://imgs.xkcd.com/comics/np_complete.png)\n",
    "\n",
    "A variant of the knapsack problem. Normally, taking each item is a binary choice and you aim to maximize value. Here, you can order the same item multiple times and  get the total value exactly. \n",
    "\n",
    "[Source](https://www.explainxkcd.com/wiki/index.php/287:_NP-Complete)"
   ]
  },
  {
   "cell_type": "code",
   "execution_count": 8,
   "id": "47c7b764-5848-4fab-9a05-486612f9fbba",
   "metadata": {},
   "outputs": [
    {
     "name": "stdout",
     "output_type": "stream",
     "text": [
      "1,0,0,2,0,1,0,\n",
      "[a__0 = 1,\n",
      " a__2 = 0,\n",
      " a__6 = 0,\n",
      " a__5 = 1,\n",
      " a__4 = 0,\n",
      " a__3 = 2,\n",
      " a__1 = 0]\n"
     ]
    }
   ],
   "source": [
    "a = IntVector('a', 7) # Int vector with 7 variables\n",
    "s = Solver()\n",
    "\n",
    "s.add(a[0]* 2.15 + a[1] * 2.75 + a[2] * 3.35 + a[3] * 3.55 + a[4] * 4.20 + a[5] * 5.80  + a[6] * 6.55 == 15.05)\n",
    "for i in range(7):\n",
    "    s.add(a[i] >= 0)\n",
    "\n",
    "s.add(a[0] != 7)\n",
    "if s.check() == sat:\n",
    "    m = s.model()\n",
    "    for i in range(7):\n",
    "        print(m.evaluate(a[i]),end=\",\")\n",
    "    print()\n",
    "    print(s.model())"
   ]
  },
  {
   "cell_type": "markdown",
   "id": "032b2504-a04a-4583-85ad-98dead7d0136",
   "metadata": {},
   "source": [
    "### Optimization using Z3\n",
    "[The knapsack problem - Wikipedia](https://en.wikipedia.org/wiki/Knapsack_problem)  \n",
    "Given a *set of items*, each with a *weight* and a *value*, determine which items to include in the collection so that the **total weight is less than or equal to a given limit** and **the total value is as large as possible**."
   ]
  },
  {
   "cell_type": "code",
   "execution_count": 9,
   "id": "ea373858-75ee-43b9-898a-5fee59c31275",
   "metadata": {},
   "outputs": [
    {
     "name": "stdout",
     "output_type": "stream",
     "text": [
      "weight=0 + 5*x_0 + 2*x_1 + 1*x_2 + 4*x_3 + 1*x_4\n",
      "value=0 + 4*x_0 + 2*x_1 + 2*x_2 + 10*x_3 + 1*x_4\n",
      "1,0,1,1,0,\n",
      "weight=10 value=16\n"
     ]
    },
    {
     "data": {
      "text/html": [
       "[x_0 = 1, x_3 = 1, x_1 = 0, x_2 = 1, x_4 = 0]"
      ],
      "text/plain": [
       "[x_0 = 1, x_3 = 1, x_1 = 0, x_2 = 1, x_4 = 0]"
      ]
     },
     "execution_count": 9,
     "metadata": {},
     "output_type": "execute_result"
    }
   ],
   "source": [
    "capacity = 10\n",
    "weights = [5,2,1,4,1]\n",
    "values = [4,2,2,10,1]\n",
    "\n",
    "def solve_knapsack(capacity,weights,values,verbose=False):\n",
    "    assert len(weights) == len(values)\n",
    "    o = Optimize() # Create optimize context\n",
    "\n",
    "    # Create and restrict variables to {0,1}\n",
    "    variables = [Int(f\"x_{i}\") for i in range(len(weights))]\n",
    "    for var in variables:\n",
    "        o.add(Or(var == 0, var == 1))\n",
    "    \n",
    "    weight_product = [weight * var for weight,var in zip(weights,variables)]\n",
    "    weight = sum(weight_product)\n",
    "    if verbose:\n",
    "        print(f\"{weight=}\")\n",
    "    value_product = [value * var for value,var in zip(values,variables)]\n",
    "    value = sum(value_product)\n",
    "\n",
    "    if verbose:\n",
    "        print(f\"{value=}\")\n",
    "    \n",
    "    o.add(weight <= capacity)\n",
    "    o.maximize(value)\n",
    "    if o.check():\n",
    "        m = o.model()\n",
    "\n",
    "        weight = sum([weight * m[var].as_long() for weight,var in zip(weights,variables)])\n",
    "        value = sum([value * m[var].as_long() for value,var in zip(values,variables)])\n",
    "        if verbose:\n",
    "            for var in variables:\n",
    "                print(m[var],end=\",\")\n",
    "            print()\n",
    "            print(f\"{weight=} {value=}\")\n",
    "        return m\n",
    "    print(\"unsat\")\n",
    "    return None\n",
    "    \n",
    "solve_knapsack(capacity,weights,values,verbose = True)"
   ]
  },
  {
   "cell_type": "code",
   "execution_count": 16,
   "id": "e8ae3b13-3cf2-485e-9b1a-499b44dbbf8f",
   "metadata": {},
   "outputs": [
    {
     "name": "stdout",
     "output_type": "stream",
     "text": [
      "10 : 0.0042s.\n",
      "12 : 0.0045s.\n",
      "14 : 0.0062s.\n",
      "16 : 0.0076s.\n",
      "18 : 0.0095s.\n",
      "20 : 0.021s.\n",
      "22 : 0.17s.\n",
      "24 : 0.12s.\n",
      "26 : 0.45s.\n",
      "28 : 0.41s.\n",
      "30 : 0.84s.\n",
      "32 : 3.4s.\n",
      "34 : 3.1s.\n"
     ]
    }
   ],
   "source": [
    "import random\n",
    "import time\n",
    "\n",
    "for i in range(10,35,2):\n",
    "    avg = 0\n",
    "    runs = 10\n",
    "    for _ in range(runs):\n",
    "        weights = [random.randrange(1,100) for _ in range(i)]    \n",
    "        values = [random.randrange(1,100) for _ in range(i)]\n",
    "        capacity = random.randrange(50,500)\n",
    "        t0 = time.time()\n",
    "        solve_knapsack(capacity,weights,values,verbose=False)\n",
    "        t1 = time.time()\n",
    "        total = t1-t0\n",
    "        avg += total\n",
    "\n",
    "    print(f\"{i} : {avg/runs:.2}s.\")\n"
   ]
  },
  {
   "cell_type": "markdown",
   "id": "f5c68c77-cc20-4635-9e51-e8ec1f9c2a96",
   "metadata": {},
   "source": [
    "### Subset Sum\n",
    "[Wikipedia](https://en.wikipedia.org/wiki/Subset_sum_problem)\n",
    "\n",
    "Given a (multi) set of integers $S$ and a target-sum $T$, decide whether any subset of the integers sum to $T$.\n"
   ]
  },
  {
   "cell_type": "code",
   "execution_count": 11,
   "id": "df541a2e-7d3e-4d20-a1a1-189ac6b38cd0",
   "metadata": {},
   "outputs": [
    {
     "name": "stdout",
     "output_type": "stream",
     "text": [
      "-3,-2,5,"
     ]
    }
   ],
   "source": [
    "S = [-7,-3,-2,9000,5,8]\n",
    "T = 0\n",
    "solver = Solver()\n",
    "variables = [Int(f\"x_{i}\") for i in range(len(S))]\n",
    "\n",
    "products = []\n",
    "\n",
    "for i,s in enumerate(S):\n",
    "    products.append(variables[i] * S[i])\n",
    "    solver.add(Or(variables[i]==0,variables[i]==1))\n",
    "\n",
    "solver.add(sum(products) == T)\n",
    "solver.add(sum(variables)>=1) # Empty subset not allowed\n",
    "\n",
    "if solver.check() == sat:\n",
    "    m = solver.model()\n",
    "    for i in range(len(S)):\n",
    "        if m[variables[i]] == 1: # Equivalent to m.evaluate(variables[i])\n",
    "            print(S[i],end=\",\")"
   ]
  },
  {
   "cell_type": "markdown",
   "id": "01065e92-5e94-4fd9-854e-21d5e82e4038",
   "metadata": {},
   "source": [
    "### Example - Sudoku Solver\n"
   ]
  },
  {
   "cell_type": "markdown",
   "id": "056e70db-3cf2-4fa1-aee8-5d2e0620f55d",
   "metadata": {},
   "source": []
  },
  {
   "cell_type": "markdown",
   "id": "bb5472ad-cee9-480d-a912-d86be0e2f5c6",
   "metadata": {},
   "source": []
  },
  {
   "cell_type": "code",
   "execution_count": 12,
   "id": "865b8006-37af-4a32-8227-b747ac931f24",
   "metadata": {},
   "outputs": [
    {
     "name": "stdout",
     "output_type": "stream",
     "text": [
      "x**4 == 16\n",
      "x + -1*y == 2\n",
      "x**2 + 2*x*y + y**2\n",
      "2*x**2 + -1*y**2 == -2\n"
     ]
    }
   ],
   "source": []
  },
  {
   "cell_type": "code",
   "execution_count": 13,
   "id": "2834cafd-7c1b-4bfc-88e8-4a91a0068f49",
   "metadata": {},
   "outputs": [
    {
     "name": "stdout",
     "output_type": "stream",
     "text": [
      "And(A, B)\n",
      "False\n"
     ]
    }
   ],
   "source": []
  },
  {
   "cell_type": "markdown",
   "id": "ed3bde37-740d-4337-9bac-57799a397c8e",
   "metadata": {},
   "source": [
    "## Proofs\n",
    "it is enought to find one concrete assignment of variables to say that a statement is **satisfiable**.\n",
    "\n",
    "A formula is **valid** if it always evaluates to true for **any assignment of variables.**\n",
    "\n",
    "The Z3 proof function receives a formula as input. It then creates a solver and attempts to solve the **negation** of the input formula. If the exhaustive search finds no valid assignment, then the formula is proven.\n",
    "\n",
    "### Example \n",
    "De Morgan's laws\n",
    "$$\\neg (A \\vee B) \\equiv (\\neg A) \\wedge (\\neg B) \\quad \\text{and} \\quad \\neg (A \\wedge B) \\equiv (\\neg A) \\vee (\\neg B)$$\n"
   ]
  },
  {
   "cell_type": "code",
   "execution_count": 14,
   "id": "f65bcf51-617e-4568-8161-ada00a878dde",
   "metadata": {},
   "outputs": [
    {
     "name": "stdout",
     "output_type": "stream",
     "text": [
      "proved\n",
      "proved\n"
     ]
    }
   ],
   "source": [
    "# Define variables\n",
    "A, B = Bools(\"A B\")\n",
    "\n",
    "de_morgan1 = Not(Or(A,B)) == And(Not(A),Not(B))\n",
    "\n",
    "de_morgan2 = Not(And(A,B)) == Or(Not(A),Not(B))\n",
    "\n",
    "prove(de_morgan1)\n",
    "prove(de_morgan2)"
   ]
  },
  {
   "cell_type": "markdown",
   "id": "baa2f204-447c-412a-ba88-4b9454601ab2",
   "metadata": {},
   "source": [
    "## BitVectors\n",
    "[Bithacks](https://graphics.stanford.edu/~seander/bithacks.html#IntegerAbs)\n",
    "\n",
    "Assume you stumble upon the following c code and want to verify it.\n",
    "```c++\n",
    "// Returns the absolute value of v\n",
    "uint32_t branchless_abs(int32_t v) {    \n",
    "    uint32_t r;  // result\n",
    "    int32_t const mask = v >> sizeof(int32_t) * CHAR_BIT - 1; // 4*8-1 = 31 for 32 bit integers\n",
    "    r = (v + mask) ^ mask;\n",
    "    return r;\n",
    "}\n",
    "```"
   ]
  },
  {
   "cell_type": "code",
   "execution_count": 15,
   "id": "e7d25132-7b95-40b4-a0b3-6c0f22772553",
   "metadata": {},
   "outputs": [
    {
     "name": "stdout",
     "output_type": "stream",
     "text": [
      "proved\n"
     ]
    }
   ],
   "source": [
    "s = Solver()\n",
    "\n",
    "v = BitVec(\"v\",32)\n",
    "\n",
    "mask = v >> 31\n",
    "r = (v + mask) ^ mask\n",
    "\n",
    "prove(If(v>0,v,-v) == r) "
   ]
  },
  {
   "cell_type": "markdown",
   "id": "cefaa5fe-8221-499e-9cff-c016b3c65a06",
   "metadata": {},
   "source": [
    "In Z3Py, the operators <, <=, >, >=, /, % and >> correspond to the **signed versions.** The corresponding unsigned operators are ULT, ULE, UGT, UGE, UDiv, URem and LShR."
   ]
  },
  {
   "cell_type": "markdown",
   "id": "37512586-a7d2-4359-ac63-51641f3ec2d9",
   "metadata": {},
   "source": [
    "## Functions"
   ]
  },
  {
   "cell_type": "markdown",
   "id": "9b889739-0b22-42fd-8ef0-dfed05acc2a5",
   "metadata": {},
   "source": [
    "## References\n",
    "[Programming Guide - Microsoft](https://z3prover.github.io/papers/programmingz3.html)\n",
    "\n",
    "[Python Tutorial - Microsoft](https://microsoft.github.io/z3guide/programming/Z3%20Python%20-%20Readonly/Introduction)\n",
    "\n",
    "[Z3 - Github](https://github.com/Z3Prover/z3)\n",
    "\n",
    "[SAT-SMT by example](https://smt.st/SAT_SMT_by_example.pdf)\n",
    "\n",
    "[Z3 Examples by Ericpony](https://ericpony.github.io/z3py-tutorial/guide-examples.htm)\n",
    "\n",
    "[Z3py API](https://z3prover.github.io/api/html/namespacez3py.html)"
   ]
  },
  {
   "cell_type": "code",
   "execution_count": 1,
   "id": "cf6f1239-deb2-4c95-8b28-0e4cdaa73f5e",
   "metadata": {},
   "outputs": [
    {
     "ename": "NameError",
     "evalue": "name 'Bools' is not defined",
     "output_type": "error",
     "traceback": [
      "\u001b[0;31m---------------------------------------------------------------------------\u001b[0m",
      "\u001b[0;31mNameError\u001b[0m                                 Traceback (most recent call last)",
      "Cell \u001b[0;32mIn[1], line 10\u001b[0m\n\u001b[1;32m      7\u001b[0m \u001b[38;5;28;01mdef\u001b[39;00m \u001b[38;5;21mConflict\u001b[39m(\u001b[38;5;241m*\u001b[39mpacks):\n\u001b[1;32m      8\u001b[0m     \u001b[38;5;28;01mreturn\u001b[39;00m Or([ Not(pack) \u001b[38;5;28;01mfor\u001b[39;00m pack \u001b[38;5;129;01min\u001b[39;00m packs ])\n\u001b[0;32m---> 10\u001b[0m a, b, c, d, e, f, g, z \u001b[38;5;241m=\u001b[39m \u001b[43mBools\u001b[49m(\u001b[38;5;124m'\u001b[39m\u001b[38;5;124ma b c d e f g z\u001b[39m\u001b[38;5;124m'\u001b[39m)\n\u001b[1;32m     12\u001b[0m \u001b[38;5;28;01mdef\u001b[39;00m \u001b[38;5;21minstall_check\u001b[39m(\u001b[38;5;241m*\u001b[39mproblem):\n\u001b[1;32m     13\u001b[0m     s \u001b[38;5;241m=\u001b[39m Solver()\n",
      "\u001b[0;31mNameError\u001b[0m: name 'Bools' is not defined"
     ]
    }
   ],
   "source": []
  },
  {
   "cell_type": "code",
   "execution_count": null,
   "id": "b349d234-b555-4e39-81cd-5e8077533e6b",
   "metadata": {},
   "outputs": [],
   "source": []
  }
 ],
 "metadata": {
  "kernelspec": {
   "display_name": "Python 3 (ipykernel)",
   "language": "python",
   "name": "python3"
  },
  "language_info": {
   "codemirror_mode": {
    "name": "ipython",
    "version": 3
   },
   "file_extension": ".py",
   "mimetype": "text/x-python",
   "name": "python",
   "nbconvert_exporter": "python",
   "pygments_lexer": "ipython3",
   "version": "3.12.4"
  }
 },
 "nbformat": 4,
 "nbformat_minor": 5
}
